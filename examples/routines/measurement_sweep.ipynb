{
 "cells": [
  {
   "cell_type": "code",
   "execution_count": 1,
   "metadata": {},
   "outputs": [],
   "source": [
    "%load_ext autoreload\n",
    "%autoreload 2   "
   ]
  },
  {
   "cell_type": "code",
   "execution_count": null,
   "metadata": {},
   "outputs": [],
   "source": [
    "import numpy as np\n",
    "import matplotlib.pyplot as plt\n",
    "\n",
    "import asyncio\n",
    "from loguru import logger\n",
    "import os\n",
    "import matplotlib.pyplot as plt\n",
    "import time\n",
    "import qscope.server\n",
    "import qscope.system\n",
    "import qscope.types\n",
    "import qscope.util\n",
    "from qscope.scripting import (\n",
    "    meas_close_after_nsweeps, \n",
    "    meas_stop_after_nsweeps,\n",
    "    meas_wait_for_nsweeps,\n",
    ")"
   ]
  },
  {
   "cell_type": "code",
   "execution_count": null,
   "metadata": {},
   "outputs": [
    {
     "name": "stdout",
     "output_type": "stream",
     "text": [
      "Using the custom tag: ( testing ) for the data directory.\n",
      "Connected to Camera: ZYLA-5.5-USB3-W\n",
      "Connected to rf source: windfreak\n"
     ]
    }
   ],
   "source": [
    "# Save Name\n",
    "SAVE_DIR = 'C:\\\\ExperimentalData\\\\2025\\\\2025-04\\\\2025-04-11_testing\\\\'\n",
    "SAVE_NAME = 'esr_sweep'"
   ]
  },
  {
   "cell_type": "code",
   "execution_count": null,
   "metadata": {},
   "outputs": [],
   "source": [
    "# Open the server or connect to an existing one\n",
    "\n",
    "# Start the client server\n",
    "qscope.server.start_client_log(log_to_stdout=True, log_level=\"INFO\")\n",
    "\n",
    "# Start the connection manager\n",
    "manager = qscope.server.ConnectionManager()\n",
    "# Start connection manager and define the system\n",
    "try:\n",
    "    manager.start_local_server(\n",
    "        \"zyla\",\n",
    "        # \"hqdm\",\n",
    "        # \"gmx\",\n",
    "        # \"mock\",\n",
    "    ) # logs go to ~./qscope/server.log\n",
    "    # Connect to the server\n",
    "    manager.connect()\n",
    "    manager.startup()\n",
    "except qscope.server.ServerAlreadyRunning:\n",
    "    manager.connect()\n",
    "    pass"
   ]
  },
  {
   "cell_type": "code",
   "execution_count": null,
   "metadata": {},
   "outputs": [],
   "source": [
    "# Define the frequency sweep that will be taken\n",
    "# f_list = qscope.util.gen_linear_sweep_list(2770, 2970, 100)\n",
    "f_list = qscope.util.gen_centred_sweep_list(2988.4, 10, 101)"
   ]
  },
  {
   "cell_type": "code",
   "execution_count": null,
   "metadata": {},
   "outputs": [],
   "source": [
    "# Configure the measurement\n",
    "config = qscope.types.SGAndorCWESRConfig(\n",
    "    sweep_x=f_list,\n",
    "    ref_mode=\"no_rf\",\n",
    "    exposure_time=15e-3,\n",
    "    frame_shape=(256, 256),\n",
    "    hardware_binning=(1, 1),\n",
    "    avg_per_point=4,\n",
    "    fmod_freq=0,\n",
    "    rf_pow=-40.0,\n",
    "    laser_delay=0.0,\n",
    ")\n"
   ]
  },
  {
   "cell_type": "code",
   "execution_count": null,
   "metadata": {},
   "outputs": [
    {
     "name": "stdout",
     "output_type": "stream",
     "text": [
      "Setting the roi to:  (1152, 1408, 952, 1208)\n"
     ]
    }
   ],
   "source": [
    "# Take a single measurement \n",
    "NUM_SWEEPS = 1\n",
    "meas_id = manager.add_measurement(config)\n",
    "manager.start_measurement_wait(meas_id)\n",
    "sweep_data = meas_stop_after_nsweeps(manager, meas_id, NUM_SWEEPS, timeout=60)\n",
    "manager.close_measurement_wait(meas_id)\n"
   ]
  },
  {
   "cell_type": "code",
   "execution_count": null,
   "metadata": {},
   "outputs": [],
   "source": [
    "# Plot the raw data and the normalized data\n",
    "\n",
    "plt.figure(figsize=(10, 6))\n",
    "plt.subplot(2, 1, 1)\n",
    "plt.plot(f_list, sweep_data[0], label='signal')\n",
    "plt.plot(f_list, sweep_data[1], label='reference')\n",
    "plt.xlabel('Frequency (MHz)')\n",
    "plt.ylabel('Intensity (a.u.)')\n",
    "plt.title('ESR Sweep')\n",
    "plt.legend()\n",
    "\n",
    "plt.subplot(2, 1, 2)\n",
    "plt.plot(f_list, sweep_data[0] / sweep_data[1], label='normalized signal')\n",
    "plt.xlabel('Frequency (MHz)')\n",
    "plt.ylabel('Normalized Intensity (a.u.)')\n",
    "plt.title('Normalized ESR Sweep')\n",
    "plt.legend()\n",
    "\n",
    "plt.tight_layout()\n",
    "plt.show()\n"
   ]
  },
  {
   "cell_type": "markdown",
   "metadata": {},
   "source": [
    "# Now sweep a parameter"
   ]
  },
  {
   "cell_type": "code",
   "execution_count": null,
   "metadata": {},
   "outputs": [],
   "source": [
    "# Let's sweep the rf power and take a measurement at each power level\n",
    "rf_pow_list = np.linspace(-40, -20, 11)\n",
    "NUM_SWEEPS = 1\n",
    "param_sweep_data = np.zeros((len(rf_pow_list), 2, len(f_list)), dtype=np.float32)\n",
    "\n",
    "i = 0\n",
    "for rf_pow in rf_pow_list:\n",
    "    # Configure the measurement\n",
    "    config = qscope.types.SGAndorCWESRConfig(\n",
    "        sweep_x=f_list,\n",
    "        ref_mode=\"no_rf\",\n",
    "        exposure_time=15e-3,\n",
    "        frame_shape=(256, 256),\n",
    "        hardware_binning=(1, 1),\n",
    "        avg_per_point=4,\n",
    "        fmod_freq=0,\n",
    "        rf_pow=rf_pow,\n",
    "        laser_delay=0.0,\n",
    "    )\n",
    "\n",
    "    # Take a single measurement \n",
    "    meas_id = manager.add_measurement(config)\n",
    "    manager.start_measurement_wait(meas_id)\n",
    "    sweep_data = meas_stop_after_nsweeps(manager, meas_id, NUM_SWEEPS, timeout=60)\n",
    "    manager.close_measurement_wait(meas_id)\n",
    "\n",
    "    # Append the data to the list\n",
    "    param_sweep_data[i,::] = sweep_data\n",
    "    i += 1\n",
    "    \n"
   ]
  },
  {
   "cell_type": "code",
   "execution_count": null,
   "metadata": {},
   "outputs": [],
   "source": [
    "# Plot the normalized data\n",
    "plt.figure(figsize=(10, 6))\n",
    "plt.imshow(param_sweep_data[:, 0, :] / param_sweep_data[:, 1, :], \n",
    "           aspect='auto', \n",
    "           extent=[f_list[0], f_list[-1], rf_pow_list[0], rf_pow_list[-1]], \n",
    "           origin='lower')\n",
    "plt.colorbar(label='Normalized Intensity (a.u.)')\n",
    "plt.xlabel('Frequency (MHz)')\n",
    "plt.ylabel('RF Power (dBm)')\n",
    "plt.title('Normalized ESR Sweep')\n",
    "plt.tight_layout()\n",
    "plt.show()"
   ]
  },
  {
   "cell_type": "code",
   "execution_count": null,
   "metadata": {},
   "outputs": [],
   "source": [
    "# Save the data to a file\n",
    "np.savez(os.path.join(SAVE_DIR, SAVE_NAME), \n",
    "         f_list=f_list, \n",
    "         rf_pow_list=rf_pow_list, \n",
    "         param_sweep_data=param_sweep_data)\n"
   ]
  },
  {
   "cell_type": "code",
   "execution_count": null,
   "metadata": {},
   "outputs": [],
   "source": [
    "# close the connection manager\n",
    "manager.close()\n"
   ]
  }
 ],
 "metadata": {
  "kernelspec": {
   "display_name": "Python 3.9.15 ('qspy')",
   "language": "python",
   "name": "python3"
  },
  "language_info": {
   "codemirror_mode": {
    "name": "ipython",
    "version": 3
   },
   "file_extension": ".py",
   "mimetype": "text/x-python",
   "name": "python",
   "nbconvert_exporter": "python",
   "pygments_lexer": "ipython3",
   "version": "3.10.13"
  },
  "orig_nbformat": 4,
  "vscode": {
   "interpreter": {
    "hash": "fd14943659e4e1bacfadf562e4eef48f4bfcbb880b4556b14ddf31a573089390"
   }
  }
 },
 "nbformat": 4,
 "nbformat_minor": 2
}
