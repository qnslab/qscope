{
 "cells": [
  {
   "cell_type": "code",
   "execution_count": 1,
   "metadata": {},
   "outputs": [],
   "source": [
    "%load_ext autoreload\n",
    "%autoreload 2   "
   ]
  },
  {
   "cell_type": "code",
   "execution_count": 2,
   "metadata": {},
   "outputs": [],
   "source": [
    "import numpy as np\n",
    "import matplotlib.pyplot as plt\n",
    "\n",
    "from qdm.devices.rohdeschwarz.smb100a import SMB100a"
   ]
  },
  {
   "cell_type": "code",
   "execution_count": 3,
   "metadata": {},
   "outputs": [
    {
     "name": "stdout",
     "output_type": "stream",
     "text": [
      "TCPIP0::169.254.33.129::inst0::INSTR\n",
      "Rohde&Schwarz,SMB100A,1406.6000k02/106177,3.0.13.0-2.20.382.35\n",
      "\n"
     ]
    }
   ],
   "source": [
    "# connect to the smb100a\n",
    "system = 'Fake'\n",
    "rf_port = \"TCPIP0::169.254.33.129::inst0::INSTR\"\n",
    "rf = SMB100a(system, visa_addr=rf_port)"
   ]
  },
  {
   "cell_type": "code",
   "execution_count": 4,
   "metadata": {},
   "outputs": [],
   "source": [
    "rf.freq = 5890\n",
    "rf.power = -30\n",
    "rf.output = 0\n"
   ]
  },
  {
   "cell_type": "code",
   "execution_count": 5,
   "metadata": {},
   "outputs": [
    {
     "name": "stdout",
     "output_type": "stream",
     "text": [
      "5890.0\n",
      "-30.0\n",
      "0\n"
     ]
    }
   ],
   "source": [
    "print(rf.freq)\n",
    "print(rf.power)\n",
    "print(rf.output)"
   ]
  },
  {
   "cell_type": "code",
   "execution_count": 6,
   "metadata": {},
   "outputs": [],
   "source": [
    "# program an automatic rf sweep\n",
    "rf_list = rf.set_freq_list(3800, 3900, 100)\n",
    "# rf.set_trigger(0)\n",
    "# rf.start_sweep()"
   ]
  },
  {
   "cell_type": "code",
   "execution_count": 7,
   "metadata": {},
   "outputs": [
    {
     "data": {
      "text/plain": [
       "[3800.0,\n",
       " 3801.0,\n",
       " 3802.0,\n",
       " 3803.0,\n",
       " 3804.0,\n",
       " 3805.0,\n",
       " 3806.0,\n",
       " 3807.0,\n",
       " 3808.0,\n",
       " 3809.0,\n",
       " 3810.0,\n",
       " 3811.0,\n",
       " 3812.0,\n",
       " 3813.0,\n",
       " 3814.0,\n",
       " 3815.0,\n",
       " 3816.0,\n",
       " 3817.0,\n",
       " 3818.0,\n",
       " 3819.0,\n",
       " 3820.0,\n",
       " 3821.0,\n",
       " 3822.0,\n",
       " 3823.0,\n",
       " 3824.0,\n",
       " 3825.0,\n",
       " 3826.0,\n",
       " 3827.0,\n",
       " 3828.0,\n",
       " 3829.0,\n",
       " 3830.0,\n",
       " 3831.0,\n",
       " 3832.0,\n",
       " 3833.0,\n",
       " 3834.0,\n",
       " 3835.0,\n",
       " 3836.0,\n",
       " 3837.0,\n",
       " 3838.0,\n",
       " 3839.0,\n",
       " 3840.0,\n",
       " 3841.0,\n",
       " 3842.0,\n",
       " 3843.0,\n",
       " 3844.0,\n",
       " 3845.0,\n",
       " 3846.0,\n",
       " 3847.0,\n",
       " 3848.0,\n",
       " 3849.0,\n",
       " 3850.0,\n",
       " 3851.0,\n",
       " 3852.0,\n",
       " 3853.0,\n",
       " 3854.0,\n",
       " 3855.0,\n",
       " 3856.0,\n",
       " 3857.0,\n",
       " 3858.0,\n",
       " 3859.0,\n",
       " 3860.0,\n",
       " 3861.0,\n",
       " 3862.0,\n",
       " 3863.0,\n",
       " 3864.0,\n",
       " 3865.0,\n",
       " 3866.0,\n",
       " 3867.0,\n",
       " 3868.0,\n",
       " 3869.0,\n",
       " 3870.0,\n",
       " 3871.0,\n",
       " 3872.0,\n",
       " 3873.0,\n",
       " 3874.0,\n",
       " 3875.0,\n",
       " 3876.0,\n",
       " 3877.0,\n",
       " 3878.0,\n",
       " 3879.0,\n",
       " 3880.0,\n",
       " 3881.0,\n",
       " 3882.0,\n",
       " 3883.0,\n",
       " 3884.0,\n",
       " 3885.0,\n",
       " 3886.0,\n",
       " 3887.0,\n",
       " 3888.0,\n",
       " 3889.0,\n",
       " 3890.0,\n",
       " 3891.0,\n",
       " 3892.0,\n",
       " 3893.0,\n",
       " 3894.0,\n",
       " 3895.0,\n",
       " 3896.0,\n",
       " 3897.0,\n",
       " 3898.0,\n",
       " 3899.0]"
      ]
     },
     "execution_count": 7,
     "metadata": {},
     "output_type": "execute_result"
    }
   ],
   "source": [
    "rf.freq_list"
   ]
  },
  {
   "cell_type": "code",
   "execution_count": 9,
   "metadata": {},
   "outputs": [],
   "source": [
    "rf.output = 0"
   ]
  },
  {
   "cell_type": "code",
   "execution_count": 10,
   "metadata": {},
   "outputs": [
    {
     "data": {
      "text/plain": [
       "{'freq': 5890.0,\n",
       " 'freq_list': [3800.0,\n",
       "  3801.0,\n",
       "  3802.0,\n",
       "  3803.0,\n",
       "  3804.0,\n",
       "  3805.0,\n",
       "  3806.0,\n",
       "  3807.0,\n",
       "  3808.0,\n",
       "  3809.0,\n",
       "  3810.0,\n",
       "  3811.0,\n",
       "  3812.0,\n",
       "  3813.0,\n",
       "  3814.0,\n",
       "  3815.0,\n",
       "  3816.0,\n",
       "  3817.0,\n",
       "  3818.0,\n",
       "  3819.0,\n",
       "  3820.0,\n",
       "  3821.0,\n",
       "  3822.0,\n",
       "  3823.0,\n",
       "  3824.0,\n",
       "  3825.0,\n",
       "  3826.0,\n",
       "  3827.0,\n",
       "  3828.0,\n",
       "  3829.0,\n",
       "  3830.0,\n",
       "  3831.0,\n",
       "  3832.0,\n",
       "  3833.0,\n",
       "  3834.0,\n",
       "  3835.0,\n",
       "  3836.0,\n",
       "  3837.0,\n",
       "  3838.0,\n",
       "  3839.0,\n",
       "  3840.0,\n",
       "  3841.0,\n",
       "  3842.0,\n",
       "  3843.0,\n",
       "  3844.0,\n",
       "  3845.0,\n",
       "  3846.0,\n",
       "  3847.0,\n",
       "  3848.0,\n",
       "  3849.0,\n",
       "  3850.0,\n",
       "  3851.0,\n",
       "  3852.0,\n",
       "  3853.0,\n",
       "  3854.0,\n",
       "  3855.0,\n",
       "  3856.0,\n",
       "  3857.0,\n",
       "  3858.0,\n",
       "  3859.0,\n",
       "  3860.0,\n",
       "  3861.0,\n",
       "  3862.0,\n",
       "  3863.0,\n",
       "  3864.0,\n",
       "  3865.0,\n",
       "  3866.0,\n",
       "  3867.0,\n",
       "  3868.0,\n",
       "  3869.0,\n",
       "  3870.0,\n",
       "  3871.0,\n",
       "  3872.0,\n",
       "  3873.0,\n",
       "  3874.0,\n",
       "  3875.0,\n",
       "  3876.0,\n",
       "  3877.0,\n",
       "  3878.0,\n",
       "  3879.0,\n",
       "  3880.0,\n",
       "  3881.0,\n",
       "  3882.0,\n",
       "  3883.0,\n",
       "  3884.0,\n",
       "  3885.0,\n",
       "  3886.0,\n",
       "  3887.0,\n",
       "  3888.0,\n",
       "  3889.0,\n",
       "  3890.0,\n",
       "  3891.0,\n",
       "  3892.0,\n",
       "  3893.0,\n",
       "  3894.0,\n",
       "  3895.0,\n",
       "  3896.0,\n",
       "  3897.0,\n",
       "  3898.0,\n",
       "  3899.0],\n",
       " 'output': 0,\n",
       " 'power': -30.0,\n",
       " 'trigger': 0}"
      ]
     },
     "execution_count": 10,
     "metadata": {},
     "output_type": "execute_result"
    }
   ],
   "source": [
    "# Test getting the metadata\n",
    "rf.unroll_metadata()"
   ]
  },
  {
   "cell_type": "code",
   "execution_count": 11,
   "metadata": {},
   "outputs": [],
   "source": [
    "rf.close()"
   ]
  },
  {
   "cell_type": "code",
   "execution_count": null,
   "metadata": {},
   "outputs": [],
   "source": []
  }
 ],
 "metadata": {
  "kernelspec": {
   "display_name": "Python 3.9.15 ('qspy')",
   "language": "python",
   "name": "python3"
  },
  "language_info": {
   "codemirror_mode": {
    "name": "ipython",
    "version": 3
   },
   "file_extension": ".py",
   "mimetype": "text/x-python",
   "name": "python",
   "nbconvert_exporter": "python",
   "pygments_lexer": "ipython3",
   "version": "3.10.12"
  },
  "orig_nbformat": 4,
  "vscode": {
   "interpreter": {
    "hash": "fd14943659e4e1bacfadf562e4eef48f4bfcbb880b4556b14ddf31a573089390"
   }
  }
 },
 "nbformat": 4,
 "nbformat_minor": 2
}
