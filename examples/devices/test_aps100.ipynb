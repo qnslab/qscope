{
 "cells": [
  {
   "cell_type": "code",
   "execution_count": 1,
   "metadata": {},
   "outputs": [],
   "source": [
    "%load_ext autoreload\n",
    "%autoreload 2   "
   ]
  },
  {
   "cell_type": "markdown",
   "metadata": {},
   "source": [
    "# Testing the communications with the APS100\n",
    "This notebook is for checking that the APS100 class is working correctly without the additional communication through the server. "
   ]
  },
  {
   "cell_type": "code",
   "execution_count": 2,
   "metadata": {},
   "outputs": [],
   "source": [
    "import numpy as np\n",
    "import matplotlib.pyplot as plt\n",
    "\n",
    "from qdm.devices.attocube.APS100 import APS100\n",
    "from qdm.system.system import System\n"
   ]
  },
  {
   "cell_type": "code",
   "execution_count": 3,
   "metadata": {},
   "outputs": [
    {
     "name": "stdout",
     "output_type": "stream",
     "text": [
      "connecting to Sona\n",
      "Connected to Camera: SONA-4BV6U\n",
      "TCPIP0::169.254.33.129::inst0::INSTR\n",
      "Rohde&Schwarz,SMB100A,1406.6000k02/106177,3.0.13.0-2.20.382.35\n",
      "\n"
     ]
    }
   ],
   "source": [
    "# create an object of the system and initalise the equipment\n",
    "qdm = System(name = \"cryo\",\n",
    "             config_file='../../src/qdm/system/cryo.json') "
   ]
  },
  {
   "cell_type": "code",
   "execution_count": 6,
   "metadata": {},
   "outputs": [
    {
     "name": "stdout",
     "output_type": "stream",
     "text": [
      "Current field values\n",
      "B = 140.002 (mT)\n",
      "theta = 54.694 (deg)\n",
      "phi = 135.015 (deg)\n",
      "Upper frequency = 6790.1 (MHz))\n",
      "Lower frequency = 1050.1 (MHz))\n"
     ]
    }
   ],
   "source": [
    "_ = qdm.magnet.get_current()"
   ]
  },
  {
   "cell_type": "code",
   "execution_count": 5,
   "metadata": {},
   "outputs": [
    {
     "name": "stdout",
     "output_type": "stream",
     "text": [
      "Setting B to 140.000 (mT) at theta = 54.700 (deg) and phi = 135.000 (deg)\n",
      "Sweeping to new field value. Estimated sweeping time: 1.67 (s)\n",
      "Field has been reached\n",
      "B = 139.811 (mT)\n",
      "NV freq approx [1044.7, 6784.7] (MHz)\n"
     ]
    }
   ],
   "source": [
    "qdm.magnet.set_b(140, 54.7, 135)"
   ]
  },
  {
   "cell_type": "code",
   "execution_count": 13,
   "metadata": {},
   "outputs": [
    {
     "data": {
      "text/plain": [
       "{'bnorm': 110.005,\n",
       " 'bx': 63.72824000000001,\n",
       " 'by': -63.726228000000006,\n",
       " 'bz': -63.078183,\n",
       " 'ix': 3.3894,\n",
       " 'ix2bx': 18.8,\n",
       " 'iy': 3.4424,\n",
       " 'iy2by': -18.51,\n",
       " 'iz': 2.6647,\n",
       " 'iz2bz': -23.67,\n",
       " 'phi': -44.999,\n",
       " 'sweeping_tolerance': 0.5,\n",
       " 'theta': 124.988,\n",
       " 'xlim': 53.2,\n",
       " 'xrate': 0.1416,\n",
       " 'ylim': 54,\n",
       " 'yrate': 0.1456,\n",
       " 'zlim': 45.25,\n",
       " 'zrate': 2.0833000000000004}"
      ]
     },
     "execution_count": 13,
     "metadata": {},
     "output_type": "execute_result"
    }
   ],
   "source": [
    "qdm.magnet.unroll_metadata()"
   ]
  },
  {
   "cell_type": "code",
   "execution_count": null,
   "metadata": {},
   "outputs": [],
   "source": [
    "qdm.close()"
   ]
  },
  {
   "cell_type": "code",
   "execution_count": null,
   "metadata": {},
   "outputs": [],
   "source": []
  }
 ],
 "metadata": {
  "kernelspec": {
   "display_name": "Python 3.9.15 ('qspy')",
   "language": "python",
   "name": "python3"
  },
  "language_info": {
   "codemirror_mode": {
    "name": "ipython",
    "version": 3
   },
   "file_extension": ".py",
   "mimetype": "text/x-python",
   "name": "python",
   "nbconvert_exporter": "python",
   "pygments_lexer": "ipython3",
   "version": "3.10.12"
  },
  "orig_nbformat": 4,
  "vscode": {
   "interpreter": {
    "hash": "fd14943659e4e1bacfadf562e4eef48f4bfcbb880b4556b14ddf31a573089390"
   }
  }
 },
 "nbformat": 4,
 "nbformat_minor": 2
}
