{
 "cells": [
  {
   "cell_type": "markdown",
   "metadata": {},
   "source": [
    "# Camera connectivity and contol\n",
    "\n",
    "There are multiple way that you can connect to a camera using the QSCOPE framework. In this notebook we show the various ways that you can connect a piece of equipment and control it.  "
   ]
  },
  {
   "cell_type": "markdown",
   "metadata": {},
   "source": [
    "### Reset the camera \n",
    "if you are having issues connecting to it in the GUI try this. "
   ]
  },
  {
   "cell_type": "code",
   "execution_count": null,
   "metadata": {},
   "outputs": [],
   "source": [
    "import pylablib as pll\n",
    "\n",
    "# Load the dlls for the Andor camera\n",
    "lib_folder = \"C:\\\\Qscope\\\\proprietary_artefacts\\\\andor_sdk3\"\n",
    "pll.par[\"devices/dlls/andor_sdk3\"] = lib_folder\n",
    "import pylablib.devices.Andor\n",
    "\n",
    "camera_num = pylablib.devices.Andor.get_cameras_number_SDK3()\n",
    "print(f\"Number of cameras: {camera_num}\")\n",
    "\n",
    "# Create the camera object\n",
    "cam = pylablib.devices.Andor.AndorSDK3Camera()\n",
    "# Open the camera\n",
    "cam.open()\n",
    "# Set the trigger mode to internal\n",
    "cam.set_trigger_mode(\"int\")\n",
    "# Set the exposure time to 1 second\n",
    "cam.set_exposure(.1)\n",
    "# Capture an image\n",
    "image = cam.snap()\n",
    "# Close the camera\n",
    "cam.close()"
   ]
  },
  {
   "cell_type": "markdown",
   "metadata": {},
   "source": [
    "### Opening the camera directly\n",
    "You can open the camera using the inbuilt dlls (or the additional dlls for some cameras). "
   ]
  },
  {
   "cell_type": "code",
   "execution_count": null,
   "metadata": {},
   "outputs": [],
   "source": [
    "# Import startard libraries\n",
    "import os\n",
    "\n",
    "import matplotlib.pyplot as plt\n",
    "import numpy as np\n",
    "\n",
    "# Import addtional control libraries\n",
    "import pylablib as pll\n",
    "import pylablib.devices.Andor\n",
    "\n",
    "# Import Logging libraries\n",
    "from loguru import logger\n",
    "\n",
    "# from qscope.device import Camera\n",
    "# from qscope.util.logging import format_error_response\n",
    "# this_folder = os.path.abspath(os.path.realpath(os.path.dirname(__file__)))\n",
    "# lib_folder = os.path.abspath(\n",
    "#     os.path.join(this_folder, *[\"..\" for i in range(5)], \"proprietary_artefacts\")\n",
    "# )\n",
    "\n",
    "lib_folder = \"C:\\\\Qscope\\\\proprietary_artefacts\\\\andor_sdk3\" # Load the dlls for the Andor camera\n",
    "# pll.par[\"devices/dlls/andor_sdk3\"] = lib_folder\n",
    "\n",
    "# Create the camera object\n",
    "cam = pylablib.devices.Andor.AndorSDK3Camera()\n",
    "# Open the camera\n",
    "cam.open()\n",
    "# Set the trigger mode to internal\n",
    "cam.set_trigger_mode(\"int\")\n",
    "# Set the exposure time to 1 second\n",
    "cam.set_exposure(1)\n",
    "# Capture an image\n",
    "image = cam.snap()\n",
    "# Close the camera\n",
    "\n",
    "# Display the image\n",
    "plt.imshow(image, cmap=\"gray\")\n",
    "plt.colorbar()\n",
    "plt.show()"
   ]
  },
  {
   "cell_type": "code",
   "execution_count": null,
   "metadata": {},
   "outputs": [],
   "source": [
    "cam.set_temperature(-25, enable_cooler=True)"
   ]
  },
  {
   "cell_type": "code",
   "execution_count": null,
   "metadata": {},
   "outputs": [],
   "source": [
    "cam.get_all_attribute_values()"
   ]
  },
  {
   "cell_type": "code",
   "execution_count": null,
   "metadata": {},
   "outputs": [],
   "source": [
    "cam.close()"
   ]
  },
  {
   "cell_type": "markdown",
   "metadata": {},
   "source": [
    "# Instantiating a system\n",
    "You can also create a system object and then control the camera throught the system itself, which is ultimately the way the gui works al beit through a messaging server. "
   ]
  },
  {
   "cell_type": "code",
   "execution_count": null,
   "metadata": {},
   "outputs": [],
   "source": [
    "import matplotlib.pyplot as plt\n",
    "\n",
    "import qscope.device.seqgen.pulseblaster.spinapi as pb\n",
    "import qscope.system\n",
    "from qscope.device.seqgen.pulseblaster import PulseBlaster\n",
    "from qscope.system import SGCameraSystem\n",
    "# from qscope.system.config import HQDM, MockSetup\n",
    "\n",
    "# open the system\n",
    "system_config = qscope.system.get_system_config(\"gmx\")\n",
    "systyp = system_config.system_type\n",
    "system = systyp(system_config)\n",
    "\n",
    "system.startup()"
   ]
  },
  {
   "cell_type": "code",
   "execution_count": null,
   "metadata": {},
   "outputs": [],
   "source": [
    "# set the camera parameters\n",
    "from qscope.types import MAIN_CAMERA, PREFIX_TO_ROLE, PRIMARY_RF, SEQUENCE_GEN\n",
    "role = MAIN_CAMERA\n",
    "frame_shape = (1024, 1024)\n",
    "system.get_device_by_role(role).set_roi(frame_shape)\n",
    "system.get_device_by_role(role).set_exposure_time(0.01)\n",
    "\n",
    "# ce.andor.Zyla55.set_exposure_time(0.1)\n",
    "# system.camera.set_hardware_binning((1, 1))\n",
    "# system.camera.set_roi((0, 0, 1024, 1024))\n",
    "# capture an image\n",
    "image = system.get_device_by_role(role).take_snapshot()\n",
    "# display the image\n",
    "plt.figure()\n",
    "plt.imshow(image, cmap=\"gray\")\n",
    "plt.colorbar()\n",
    "plt.show()"
   ]
  },
  {
   "cell_type": "code",
   "execution_count": null,
   "metadata": {},
   "outputs": [],
   "source": [
    "system.get_device_by_role(role).start_popup_video()"
   ]
  },
  {
   "cell_type": "code",
   "execution_count": null,
   "metadata": {},
   "outputs": [],
   "source": [
    "# Turn the laser on\n",
    "# TODO: This is not working\n",
    "system.set_laser_output(1)\n",
    "\n",
    "image = system.get_device_by_role(role).take_snapshot()\n",
    "# display the image\n",
    "plt.figure()\n",
    "plt.imshow(image, cmap=\"gray\")\n",
    "plt.colorbar()\n",
    "plt.show()\n",
    "\n",
    "# Turn the laser off\n",
    "system.set_laser_output(0)"
   ]
  },
  {
   "cell_type": "code",
   "execution_count": null,
   "metadata": {},
   "outputs": [],
   "source": [
    "# close the system\n",
    "system.packdown()"
   ]
  },
  {
   "cell_type": "markdown",
   "metadata": {},
   "source": [
    "# Connection to the camera through the server\n"
   ]
  },
  {
   "cell_type": "markdown",
   "metadata": {},
   "source": []
  },
  {
   "cell_type": "code",
   "execution_count": null,
   "metadata": {},
   "outputs": [],
   "source": [
    "import qscope.server\n",
    "\n",
    "# Start the client server\n",
    "qscope.server.start_client_log(log_to_stdout=True, log_level=\"INFO\")\n",
    "\n",
    "# Start the connection manager\n",
    "manager = qscope.server.ConnectionManager()\n",
    "# Start connection manager and define the system\n",
    "try:\n",
    "    manager.start_local_server(\n",
    "        # \"zyla\",\n",
    "        # \"hqdm\",\n",
    "        \"gmx\",\n",
    "    ) # logs go to ~./qscope/server.log\n",
    "    # Connect to the server\n",
    "    manager.connect()\n",
    "    manager.startup()\n",
    "except qscope.server.ServerAlreadyRunning:\n",
    "    manager.connect()\n",
    "    pass"
   ]
  },
  {
   "cell_type": "code",
   "execution_count": null,
   "metadata": {},
   "outputs": [],
   "source": [
    "manager.camera_start_video()"
   ]
  },
  {
   "cell_type": "code",
   "execution_count": null,
   "metadata": {},
   "outputs": [],
   "source": [
    "manager.camera_stop_video()"
   ]
  },
  {
   "cell_type": "code",
   "execution_count": null,
   "metadata": {},
   "outputs": [],
   "source": [
    "manager.save_latest_stream(\"data\")"
   ]
  },
  {
   "cell_type": "code",
   "execution_count": null,
   "metadata": {},
   "outputs": [],
   "source": [
    "manager.stop_server()"
   ]
  },
  {
   "cell_type": "code",
   "execution_count": null,
   "metadata": {},
   "outputs": [],
   "source": []
  }
 ],
 "metadata": {
  "kernelspec": {
   "display_name": "Python 3",
   "language": "python",
   "name": "python3"
  },
  "language_info": {
   "codemirror_mode": {
    "name": "ipython",
    "version": 3
   },
   "file_extension": ".py",
   "mimetype": "text/x-python",
   "name": "python",
   "nbconvert_exporter": "python",
   "pygments_lexer": "ipython3",
   "version": "3.11.11"
  }
 },
 "nbformat": 4,
 "nbformat_minor": 4
}
