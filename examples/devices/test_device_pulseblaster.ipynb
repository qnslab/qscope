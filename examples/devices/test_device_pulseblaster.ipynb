{
 "cells": [
  {
   "cell_type": "code",
   "execution_count": 26,
   "metadata": {},
   "outputs": [],
   "source": [
    "import numpy as np\n",
    "import pylablib as pll\n",
    "import matplotlib.pyplot as plt\n",
    "import sys\n",
    "sys.path.insert(0, '/devices/pulseblaster')\n",
    "\n",
    "from qscope.device.seqgen.pulseblaster import PulseBlaster"
   ]
  },
  {
   "cell_type": "code",
   "execution_count": 31,
   "metadata": {},
   "outputs": [
    {
     "name": "stdout",
     "output_type": "stream",
     "text": [
      "True\n"
     ]
    }
   ],
   "source": [
    "ch_defs = {\n",
    "\t\"ch0\": 1,\n",
    "\t\"ch1\": 10,}\n",
    "\n",
    "sequence_params = {\n",
    "    \"laser_delay\": 0.5,\n",
    "}\n",
    "\n",
    "pb = PulseBlaster(\n",
    "\tboard_num='0',\n",
    "\tch_defs=ch_defs,\n",
    "\tsequence_params=sequence_params,\n",
    ")\n",
    "print(pb.is_connected())\n",
    "\n",
    "pb.close()"
   ]
  },
  {
   "cell_type": "code",
   "execution_count": 10,
   "metadata": {},
   "outputs": [
    {
     "data": {
      "text/plain": [
       "0"
      ]
     },
     "execution_count": 10,
     "metadata": {},
     "output_type": "execute_result"
    }
   ],
   "source": [
    "pb.pb_start_programming(pb.PULSE_PROGRAM)\n",
    "# turn the MW on\n",
    "pb.pb_inst_pbonly(1, pb.Inst.BRANCH, 0, 1000 * pb.ms)\n",
    "pb.pb_stop_programming()\n",
    "\n",
    "pb.pb_reset()\n",
    "pb.pb_start()"
   ]
  },
  {
   "cell_type": "code",
   "execution_count": 11,
   "metadata": {},
   "outputs": [
    {
     "data": {
      "text/plain": [
       "0"
      ]
     },
     "execution_count": 11,
     "metadata": {},
     "output_type": "execute_result"
    }
   ],
   "source": [
    "pb.pb_stop()"
   ]
  },
  {
   "cell_type": "code",
   "execution_count": null,
   "metadata": {},
   "outputs": [],
   "source": [
    "# Now test pb comms through the system class\n",
    "GMX = System() # create an object of the system and initalise the equipment"
   ]
  },
  {
   "cell_type": "code",
   "execution_count": null,
   "metadata": {},
   "outputs": [],
   "source": [
    "pb.pb_select_board(1)\n",
    "pb.pb_init()\n",
    "    \n",
    "pb.pb_start_programming(pb.PULSE_PROGRAM)\n",
    "# turn the MW on\n",
    "pb.pb_inst_pbonly(1, pb.Inst.BRANCH, 0, 1000 * pb.ms)\n",
    "pb.pb_stop_programming()\n",
    "\n",
    "pb.pb_reset()\n",
    "pb.pb_start()"
   ]
  },
  {
   "cell_type": "code",
   "execution_count": null,
   "metadata": {},
   "outputs": [],
   "source": [
    "pb.pb_stop()"
   ]
  },
  {
   "cell_type": "code",
   "execution_count": null,
   "metadata": {},
   "outputs": [],
   "source": []
  }
 ],
 "metadata": {
  "kernelspec": {
   "display_name": "Python 3",
   "language": "python",
   "name": "python3"
  },
  "language_info": {
   "codemirror_mode": {
    "name": "ipython",
    "version": 3
   },
   "file_extension": ".py",
   "mimetype": "text/x-python",
   "name": "python",
   "nbconvert_exporter": "python",
   "pygments_lexer": "ipython3",
   "version": "3.11.11"
  },
  "orig_nbformat": 4
 },
 "nbformat": 4,
 "nbformat_minor": 2
}
