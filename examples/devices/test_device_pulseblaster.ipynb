{
 "cells": [
  {
   "cell_type": "code",
   "execution_count": 1,
   "metadata": {},
   "outputs": [],
   "source": [
    "import numpy as np\n",
    "import pylablib as pll\n",
    "import matplotlib.pyplot as plt\n",
    "import sys\n",
    "sys.path.insert(0, '/devices/pulseblaster')\n",
    "from qdm.system.system import System\n",
    "import qdm.devices.pulseblaster.spinapi as pb"
   ]
  },
  {
   "cell_type": "code",
   "execution_count": 4,
   "metadata": {},
   "outputs": [
    {
     "name": "stdout",
     "output_type": "stream",
     "text": [
      "connecting to Sona\n",
      "Connected to Camera: SONA-4BV6U\n",
      "TCPIP0::169.254.33.129::inst0::INSTR\n",
      "Rohde&Schwarz,SMB100A,1406.6000k02/106177,3.0.13.0-2.20.382.35\n",
      "\n"
     ]
    }
   ],
   "source": [
    "# load the system\n",
    "qdm = System(name = \"cryo\",\n",
    "             config_file='../../src/qdm/system/cryo.json') "
   ]
  },
  {
   "cell_type": "code",
   "execution_count": 6,
   "metadata": {},
   "outputs": [],
   "source": [
    "qdm.pb.start_programming()\n",
    "qdm.pb.inst_pbonly(1, pb.Inst.BRANCH, 0, 1000 *pb.ms)\n",
    "qdm.pb.stop_programming()\n",
    "\n",
    "qdm.pb.reset()\n",
    "qdm.pb.start()\n"
   ]
  },
  {
   "cell_type": "code",
   "execution_count": 8,
   "metadata": {},
   "outputs": [],
   "source": [
    "qdm.pb.stop()\n",
    "qdm.pb.close()"
   ]
  },
  {
   "cell_type": "code",
   "execution_count": 9,
   "metadata": {},
   "outputs": [
    {
     "data": {
      "text/plain": [
       "1093321688"
      ]
     },
     "execution_count": 9,
     "metadata": {},
     "output_type": "execute_result"
    }
   ],
   "source": [
    "pb.pb_select_board(0)\n",
    "if pb.pb_init() != 0:\n",
    "\tprint(\"Error initializing board: %s\" % pb.pb_get_error())\n",
    "\tinput(\"Please press a key to continue.\")\n",
    "\texit(-1)\n",
    "# Configure the core clock\n",
    "pb.pb_core_clock(500)"
   ]
  },
  {
   "cell_type": "code",
   "execution_count": 10,
   "metadata": {},
   "outputs": [
    {
     "data": {
      "text/plain": [
       "0"
      ]
     },
     "execution_count": 10,
     "metadata": {},
     "output_type": "execute_result"
    }
   ],
   "source": [
    "pb.pb_start_programming(pb.PULSE_PROGRAM)\n",
    "# turn the MW on\n",
    "pb.pb_inst_pbonly(1, pb.Inst.BRANCH, 0, 1000 * pb.ms)\n",
    "pb.pb_stop_programming()\n",
    "\n",
    "pb.pb_reset()\n",
    "pb.pb_start()"
   ]
  },
  {
   "cell_type": "code",
   "execution_count": 11,
   "metadata": {},
   "outputs": [
    {
     "data": {
      "text/plain": [
       "0"
      ]
     },
     "execution_count": 11,
     "metadata": {},
     "output_type": "execute_result"
    }
   ],
   "source": [
    "pb.pb_stop()"
   ]
  },
  {
   "cell_type": "code",
   "execution_count": null,
   "metadata": {},
   "outputs": [],
   "source": [
    "# Now test pb comms through the system class\n",
    "GMX = System() # create an object of the system and initalise the equipment"
   ]
  },
  {
   "cell_type": "code",
   "execution_count": null,
   "metadata": {},
   "outputs": [],
   "source": [
    "pb.pb_select_board(1)\n",
    "pb.pb_init()\n",
    "    \n",
    "pb.pb_start_programming(pb.PULSE_PROGRAM)\n",
    "# turn the MW on\n",
    "pb.pb_inst_pbonly(1, pb.Inst.BRANCH, 0, 1000 * pb.ms)\n",
    "pb.pb_stop_programming()\n",
    "\n",
    "pb.pb_reset()\n",
    "pb.pb_start()"
   ]
  },
  {
   "cell_type": "code",
   "execution_count": null,
   "metadata": {},
   "outputs": [],
   "source": [
    "pb.pb_stop()"
   ]
  },
  {
   "cell_type": "code",
   "execution_count": null,
   "metadata": {},
   "outputs": [],
   "source": []
  }
 ],
 "metadata": {
  "kernelspec": {
   "display_name": "Python 3.9.15 ('qspy')",
   "language": "python",
   "name": "python3"
  },
  "language_info": {
   "codemirror_mode": {
    "name": "ipython",
    "version": 3
   },
   "file_extension": ".py",
   "mimetype": "text/x-python",
   "name": "python",
   "nbconvert_exporter": "python",
   "pygments_lexer": "ipython3",
   "version": "3.10.12"
  },
  "orig_nbformat": 4,
  "vscode": {
   "interpreter": {
    "hash": "fd14943659e4e1bacfadf562e4eef48f4bfcbb880b4556b14ddf31a573089390"
   }
  }
 },
 "nbformat": 4,
 "nbformat_minor": 2
}
