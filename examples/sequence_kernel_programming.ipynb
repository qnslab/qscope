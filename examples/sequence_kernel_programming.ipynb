{
 "cells": [
  {
   "cell_type": "code",
   "execution_count": 1,
   "metadata": {},
   "outputs": [],
   "source": [
    "%load_ext autoreload\n",
    "%autoreload 2   \n",
    "%matplotlib inline"
   ]
  },
  {
   "cell_type": "code",
   "execution_count": 2,
   "metadata": {},
   "outputs": [],
   "source": [
    "import numpy as np\n",
    "import matplotlib.pyplot as plt\n",
    "import json\n",
    "from qscope.device.seqgen.sequence_plotting import *\n",
    "import qscope.device.seqgen.pulseblaster.spinapi as pb"
   ]
  },
  {
   "cell_type": "markdown",
   "metadata": {},
   "source": [
    "# Test pulse blaster connection"
   ]
  },
  {
   "cell_type": "code",
   "execution_count": null,
   "metadata": {},
   "outputs": [],
   "source": [
    "pb.pb_select_board(0)\n",
    "pb.pb_init()\n",
    "pb.pb_core_clock(500)"
   ]
  },
  {
   "cell_type": "markdown",
   "metadata": {},
   "source": [
    "# Simple testing"
   ]
  },
  {
   "cell_type": "code",
   "execution_count": null,
   "metadata": {},
   "outputs": [],
   "source": [
    "# define a list of chs to be used in the code\n",
    "ch_defs = {\n",
    "    \"laser\": \"00000001\",\n",
    "    \"rf_x\": \"00000010\",\n",
    "    \"rf_-x\": \"00000100\",\n",
    "    \"rf_y\": \"00001000\",\n",
    "    \"rf_-y\": \"00010000\",\n",
    "    \"rf_trig\": \"00100000\",\n",
    "    \"camera\": \"01000000\",\n",
    "    \"rf2_trig\": \"10000000\",\n",
    "}\n",
    "# Define the delays that we need to use in the sequence\n",
    "laser_dur = 1e-6\n",
    "rf_dur = 1e-6\n",
    "laser_delay = 500e-9\n",
    "rf_delay = 250e-9\n",
    "laser_to_rf_delay = 200e-9\n",
    "rf_to_laser_delay = 50e-9\n"
   ]
  },
  {
   "cell_type": "code",
   "execution_count": null,
   "metadata": {},
   "outputs": [],
   "source": [
    "# Make a basic list of states for a pulsed odmr sequence\n",
    "# This is the traditional approach to defining a sequence\n",
    "\n",
    "# make a list of dictionaries that define the instructions\n",
    "insts = []\n",
    "\n",
    "insts.append({\"active_chs\": [\"laser\"], \"dur\": laser_dur, \"ch_delay\": laser_delay, \"const_chs\": [\"camera\"]})\n",
    "insts.append({\"active_chs\": [ ], \"dur\": laser_to_rf_delay, \"ch_delay\": 0, \"const_chs\": [\"camera\"]})\n",
    "insts.append({\"active_chs\": [\"rf_x\",], \"dur\": rf_dur, \"ch_delay\": rf_delay, \"const_chs\": [\"camera\"]})\n",
    "insts.append({\"active_chs\": [], \"dur\": rf_to_laser_delay, \"ch_delay\": 0, \"const_chs\": [\"camera\"]})\n",
    "\n",
    "# plot_instructions_kernel(insts, ch_defs)\n"
   ]
  },
  {
   "cell_type": "code",
   "execution_count": null,
   "metadata": {},
   "outputs": [],
   "source": [
    "# Define the kernal using a pulse series object\n",
    "\n",
    "from qscope.device.seqgen.pulse_kernel import PulseKernel\n",
    "\n",
    "pk = PulseKernel(ch_defs)\n",
    "\n",
    "pk.add_pulse([\"laser\"], 0, 100e-9, ch_delay=laser_delay)\n",
    "pk.add_pulse([\"laser\"], 300e-9, 100e-9, ch_delay=laser_delay)\n",
    "pk.add_pulse([\"laser\"], 2e-6, laser_dur, ch_delay=laser_delay)\n",
    "\n",
    "pk.append_delay(laser_to_rf_delay)\n",
    "pk.append_pulse([\"rf_x\"],  rf_dur, ch_delay=rf_delay)\n",
    "pk.add_pulse([\"rf_-x\"],  100e-9, rf_dur, ch_delay=rf_delay)\n",
    "pk.add_pulse([\"rf_-y\"],  0, 0.2*rf_dur, ch_delay=rf_delay)\n",
    "\n",
    "pk.append_delay(1000e-9, var_dur=False)\n",
    "pk.append_pulse([\"rf_y\"] , rf_dur, ch_delay=rf_delay)\n",
    "pk.append_pulse([\"rf_trig\"],  rf_dur*0.5, ch_delay=rf_delay)\n",
    "\n",
    "# pk.print_pulses()\n",
    "\n",
    "pk.plot_pulses()\n",
    "\n"
   ]
  },
  {
   "cell_type": "code",
   "execution_count": null,
   "metadata": {},
   "outputs": [],
   "source": [
    "pk.shift_ch_delays()\n",
    "# pk.print_pulses()\n",
    "pk.plot_pulses()"
   ]
  },
  {
   "cell_type": "code",
   "execution_count": null,
   "metadata": {},
   "outputs": [],
   "source": [
    "pk.wrap_pulses()\n",
    "pk.plot_pulses()\n"
   ]
  },
  {
   "cell_type": "code",
   "execution_count": null,
   "metadata": {},
   "outputs": [],
   "source": [
    "# Convert to instructions and plot the kernel\n",
    "pk.convert_to_instructions(const_chs=[\"camera\"])\n",
    "pk.plot_inst_kernel()\n"
   ]
  },
  {
   "cell_type": "markdown",
   "metadata": {},
   "source": [
    "# Variable kernel def and plotting"
   ]
  },
  {
   "cell_type": "code",
   "execution_count": null,
   "metadata": {},
   "outputs": [],
   "source": [
    "# Define the kernal using a pulse series object\n",
    "\n",
    "from qscope.device.seqgen.pulse_kernel import PulseKernel\n",
    "\n",
    "pk = PulseKernel(ch_defs)\n",
    "\n",
    "rf_delay = 500e-9\n",
    "\n",
    "pk.add_pulse([\"laser\"], 0, laser_dur, ch_delay=laser_delay)\n",
    "pk.append_delay(laser_to_rf_delay)\n",
    "pk.append_pulse([\"rf_x\"],  rf_dur, ch_delay=rf_delay)\n",
    "pk.append_delay(120e-9, var_dur=True)\n",
    "pk.append_pulse([\"rf_y\"] , rf_dur, ch_delay=rf_delay)\n",
    "pk.append_pulse([\"rf_trig\"],  rf_dur*0.5, ch_delay=0)\n",
    "pk.finish_kernel()\n",
    "\n",
    "print(pk.kernel[\"rf_y\"])\n",
    "print(pk.kernel_unaltered[\"rf_y\"])\n"
   ]
  },
  {
   "cell_type": "code",
   "execution_count": null,
   "metadata": {},
   "outputs": [],
   "source": [
    "# Define the variable delays and plot the kernel\n",
    "t = np.linspace(12e-9, 5e-6, 10)\n",
    "\n",
    "idx = 5\n",
    "\n",
    "pk.update_var_durs(t[idx])\n",
    "\n",
    "# pk.plot_pulses()\n",
    "pk.convert_to_instructions()\n",
    "\n",
    "pk.plot_inst_kernel()\n"
   ]
  },
  {
   "cell_type": "code",
   "execution_count": null,
   "metadata": {},
   "outputs": [],
   "source": [
    "# Define the kernal using a pulse series object\n",
    "from qscope.device.seqgen.pulse_kernel import PulseKernel\n",
    "# Create the SIGNAL kernel\n",
    "pk_sig = PulseKernel(ch_defs)\n",
    "# Program the kernel pulses\n",
    "pk_sig.add_pulse([\"laser\"], 0, 1000, ch_delay=0)\n",
    "pk_sig.append_delay(200)\n",
    "pk_sig.append_pulse([\"rf_x\"], 100, ch_delay=0)\n",
    "pk_sig.finish_kernel()\n",
    "pk_sig_cam = pk_sig.convert_to_instructions(const_chs=[\"camera\"])\n",
    "# pk_sig.plot_pulses()\n",
    "\n",
    "pk_sig.convert_to_instructions()\n",
    "\n",
    "pk_sig_cam.insts\n",
    "\n",
    "# pk_sig.plot_inst_kernel()"
   ]
  },
  {
   "cell_type": "markdown",
   "metadata": {},
   "source": [
    "# Example of pulsed ODMR full sequence"
   ]
  },
  {
   "cell_type": "code",
   "execution_count": null,
   "metadata": {},
   "outputs": [],
   "source": [
    "class dummy_pb():\n",
    "    def __init__(self):\n",
    "        self.insts = []\n",
    "    def add_instruction(self, active_chs = None, dur = 0, *args, **kwargs):\n",
    "        # self.insts.append(inst)\n",
    "        return\n",
    "    def get_instructions(self):\n",
    "        return self.insts\n",
    "    def start_programming(self):\n",
    "        pass\n",
    "    def end_sequence(self, *args, **kwargs):\n",
    "        pass\n",
    "    def stop_programming(self):\n",
    "        pass\n",
    "\n",
    "    def add_kernel(self, pulse_kernel, num_loop, const_chs=[]):\n",
    "        ''' \n",
    "        Add the instructions to the signal generator assuming that the instructions that have been defined is a kernel\n",
    "        '''\n",
    "        pass\n",
    "        pulse_kernel.convert_to_instructions(const_chs=const_chs)\n",
    "        # add the instructions to the pulseblaster in a loop\n",
    "        for inst in self.insts:\n",
    "            # For the first instruction, we need to add the start loop instruction\n",
    "            if self.insts.index(inst) == 0:\n",
    "                loop_inst = self.add_instruction(loop=\"start\", num_loop=num_loop, **inst)\n",
    "            # For the last instruction, we need to add the end loop instruction\n",
    "            elif self.insts.index(inst) == len(self.insts) - 1:\n",
    "                self.add_instruction(loop=\"end\", inst=loop_inst, **inst)\n",
    "            else:\n",
    "                self.add_instruction(**inst)\n",
    "        return"
   ]
  },
  {
   "cell_type": "code",
   "execution_count": null,
   "metadata": {},
   "outputs": [],
   "source": [
    "seqgen = dummy_pb()\n",
    "\n",
    "avg_per_point = 2\n",
    "int_time = 100e-6\n",
    "num_loops = 1e3\n",
    "tau = 100e-9\n",
    "trig_time = 10e-6\n",
    "trig_loops = 1e2\n",
    "\n",
    "\n",
    "# --- SIGNAL KERNEL ---\n",
    "# initialise the pulse series object\n",
    "pk_sig = PulseKernel(ch_defs)\n",
    "# Program the kernel pulses\n",
    "pk_sig.add_pulse([\"laser\"], 0, laser_dur, ch_delay=laser_delay)\n",
    "pk_sig.append_delay(laser_to_rf_delay)\n",
    "pk_sig.append_pulse([\"rf_x\"], rf_dur, ch_delay=rf_delay)\n",
    "\n",
    "# --- REFERENCE KERNEL ---\n",
    "# Program the kernel pulses\n",
    "pk_ref = PulseKernel(ch_defs)\n",
    "# Program the kernel pulses\n",
    "pk_ref.add_pulse([\"laser\"], 0, laser_dur, ch_delay=laser_delay)\n",
    "pk_ref.append_delay(laser_to_rf_delay)\n",
    "pk_ref.append_delay(rf_dur)\n",
    "\n",
    "# --- PROGRAMMING ---\n",
    "seqgen.start_programming()\n",
    "# Initial laser pulse\n",
    "seqgen.add_instruction(**{\"active_chs\": [\"laser\"], \"dur\": laser_dur})\n",
    "\n",
    "# Start the per point average loop if required \n",
    "if avg_per_point > 1:\n",
    "    inst = seqgen.add_instruction([], \n",
    "                                  12e-9,\n",
    "                                  loop=\"start\", \n",
    "                                  num=avg_per_point, \n",
    "                                  const_chs=[\"camera\"])\n",
    "    \n",
    "# Add the SIG kernel to the sequence generator\n",
    "seqgen.add_kernel(pk_sig, num_loops, const_chs=[\"camera\"])\n",
    "seqgen.add_kernel(pk_sig, trig_loops, const_chs=[\"rf_trig\"])\n",
    " # Add the REF kernel to the sequence generator\n",
    "seqgen.add_kernel(pk_ref, num_loops, const_chs=[\"camera\"])\n",
    "seqgen.add_kernel(pk_ref, trig_loops, const_chs=[\"rf_trig\"])\n",
    "\n",
    "if avg_per_point > 1:\n",
    "    seqgen.add_instruction([], 12e-9, loop=\"end\", inst=inst)\n",
    "\n",
    "seqgen.add_instruction([], trig_time)\n",
    "seqgen.end_sequence(10e6)\n",
    "seqgen.stop_programming()\n"
   ]
  },
  {
   "cell_type": "markdown",
   "metadata": {},
   "source": [
    "# Test actual sequence \n",
    "\n",
    "Used for running sequences with the pulseblaster to check them on an oscilloscope. "
   ]
  },
  {
   "cell_type": "code",
   "execution_count": 4,
   "metadata": {},
   "outputs": [
    {
     "name": "stderr",
     "output_type": "stream",
     "text": [
      "\u001b[32m2024-12-11 10:30:04.511\u001b[0m | \u001b[1mINFO    \u001b[0m | \u001b[36mqscope.device.seqgen.pulseblaster.spinapi\u001b[0m:\u001b[36m_checkloaded\u001b[0m:\u001b[36m77\u001b[0m - \u001b[1mUsing SpinAPI version b'20171214'\u001b[0m\n",
      "\u001b[32m2024-12-11 10:30:04.532\u001b[0m | \u001b[1mINFO    \u001b[0m | \u001b[36mqscope.device.seqgen.pulseblaster.pulseblaster\u001b[0m:\u001b[36mopen\u001b[0m:\u001b[36m66\u001b[0m - \u001b[1mPulseblaster opened, status: {'stopped': False, 'reset': True, 'running': False, 'waiting': False}\u001b[0m\n"
     ]
    },
    {
     "data": {
      "text/plain": [
       "(True, 'Pulseblaster opened')"
      ]
     },
     "execution_count": 4,
     "metadata": {},
     "output_type": "execute_result"
    }
   ],
   "source": [
    "from qscope.device.seqgen.pulseblaster import PulseBlaster\n",
    "import numpy as np\n",
    "from qscope.device.seqgen.pulseblaster.seq_cw_esr import seq_cw_esr\n",
    "from qscope.device.seqgen.pulseblaster.seq_p_esr import seq_p_esr\n",
    "from qscope.device.seqgen.pulseblaster.seq_rabi import seq_rabi\n",
    "ch_defs = {\n",
    "    \"laser\": \"00000001\",\n",
    "    \"rf_x\": \"00000010\",\n",
    "    \"rf_-x\": \"00000100\",\n",
    "    \"rf_y\": \"00001000\",\n",
    "    \"rf_-y\": \"00010000\",\n",
    "    \"rf_trig\": \"00100000\",\n",
    "    \"camera\": \"01000000\",\n",
    "    \"rf2_trig\": \"10000000\",\n",
    "}\n",
    "\n",
    "sequence_params =  {\n",
    "                    \"laser_delay\": 340e-9,\n",
    "                    \"rf_delay\": 12e-9,\n",
    "                    \"camera_trig_time\": 10e-3,\n",
    "}                   \n",
    "\n",
    "seqgen_pb = PulseBlaster(board_num=\"0\", ch_defs=ch_defs, sequence_params=sequence_params)\n",
    "seqgen_pb.open()"
   ]
  },
  {
   "cell_type": "code",
   "execution_count": 108,
   "metadata": {},
   "outputs": [
    {
     "name": "stderr",
     "output_type": "stream",
     "text": [
      "\u001b[32m2024-12-11 11:07:42.164\u001b[0m | \u001b[1mINFO    \u001b[0m | \u001b[36mqscope.device.seqgen.pulseblaster.seq_rabi\u001b[0m:\u001b[36mseq_rabi\u001b[0m:\u001b[36m34\u001b[0m - \u001b[1mSetting up Rabi sequence with no_rf as a reference\u001b[0m\n",
      "\u001b[32m2024-12-11 11:07:42.164\u001b[0m | \u001b[1mINFO    \u001b[0m | \u001b[36mqscope.device.seqgen.pulseblaster.seq_rabi\u001b[0m:\u001b[36mseq_rabi\u001b[0m:\u001b[36m86\u001b[0m - \u001b[1mProgramming Ramsey sequence with the following parameters:\n",
      "Laser duration: 1000 ns\n",
      "First RF pulse duration: 20 ns\n",
      "Last RF pulse duration: 500 ns\n",
      "Laser delay: 300 ns\n",
      "RF delay: 50 ns\n",
      "Reference mode: no_rf\n",
      "Base time: 1200 ns\n",
      "Camera exposure time: 30.0 ms\n",
      "Number of loops: 27500\n",
      "Camera trigger time: 1.0 ms\n",
      "Number of trigger loops: 916\u001b[0m\n",
      "\u001b[32m2024-12-11 11:07:42.164\u001b[0m | \u001b[1mINFO    \u001b[0m | \u001b[36mqscope.device.seqgen.pulseblaster.seq_rabi\u001b[0m:\u001b[36mseq_rabi\u001b[0m:\u001b[36m120\u001b[0m - \u001b[1m\n",
      "tau: 20 ns\n",
      "Base time: 1232 ns\u001b[0m\n",
      "\u001b[32m2024-12-11 11:07:42.164\u001b[0m | \u001b[1mINFO    \u001b[0m | \u001b[36mqscope.device.seqgen.pulseblaster.seq_rabi\u001b[0m:\u001b[36mseq_rabi\u001b[0m:\u001b[36m120\u001b[0m - \u001b[1m\n",
      "tau: 29 ns\n",
      "Base time: 1241 ns\u001b[0m\n",
      "\u001b[32m2024-12-11 11:07:42.173\u001b[0m | \u001b[1mINFO    \u001b[0m | \u001b[36mqscope.device.seqgen.pulseblaster.seq_rabi\u001b[0m:\u001b[36mseq_rabi\u001b[0m:\u001b[36m120\u001b[0m - \u001b[1m\n",
      "tau: 39 ns\n",
      "Base time: 1251 ns\u001b[0m\n",
      "\u001b[32m2024-12-11 11:07:42.177\u001b[0m | \u001b[1mINFO    \u001b[0m | \u001b[36mqscope.device.seqgen.pulseblaster.seq_rabi\u001b[0m:\u001b[36mseq_rabi\u001b[0m:\u001b[36m120\u001b[0m - \u001b[1m\n",
      "tau: 48 ns\n",
      "Base time: 1260 ns\u001b[0m\n",
      "\u001b[32m2024-12-11 11:07:42.186\u001b[0m | \u001b[1mINFO    \u001b[0m | \u001b[36mqscope.device.seqgen.pulseblaster.seq_rabi\u001b[0m:\u001b[36mseq_rabi\u001b[0m:\u001b[36m120\u001b[0m - \u001b[1m\n",
      "tau: 58 ns\n",
      "Base time: 1270 ns\u001b[0m\n",
      "\u001b[32m2024-12-11 11:07:42.191\u001b[0m | \u001b[1mINFO    \u001b[0m | \u001b[36mqscope.device.seqgen.pulseblaster.seq_rabi\u001b[0m:\u001b[36mseq_rabi\u001b[0m:\u001b[36m120\u001b[0m - \u001b[1m\n",
      "tau: 68 ns\n",
      "Base time: 1280 ns\u001b[0m\n",
      "\u001b[32m2024-12-11 11:07:42.196\u001b[0m | \u001b[1mINFO    \u001b[0m | \u001b[36mqscope.device.seqgen.pulseblaster.seq_rabi\u001b[0m:\u001b[36mseq_rabi\u001b[0m:\u001b[36m120\u001b[0m - \u001b[1m\n",
      "tau: 77 ns\n",
      "Base time: 1289 ns\u001b[0m\n",
      "\u001b[32m2024-12-11 11:07:42.201\u001b[0m | \u001b[1mINFO    \u001b[0m | \u001b[36mqscope.device.seqgen.pulseblaster.seq_rabi\u001b[0m:\u001b[36mseq_rabi\u001b[0m:\u001b[36m120\u001b[0m - \u001b[1m\n",
      "tau: 87 ns\n",
      "Base time: 1299 ns\u001b[0m\n",
      "\u001b[32m2024-12-11 11:07:42.205\u001b[0m | \u001b[1mINFO    \u001b[0m | \u001b[36mqscope.device.seqgen.pulseblaster.seq_rabi\u001b[0m:\u001b[36mseq_rabi\u001b[0m:\u001b[36m120\u001b[0m - \u001b[1m\n",
      "tau: 96 ns\n",
      "Base time: 1308 ns\u001b[0m\n",
      "\u001b[32m2024-12-11 11:07:42.209\u001b[0m | \u001b[1mINFO    \u001b[0m | \u001b[36mqscope.device.seqgen.pulseblaster.seq_rabi\u001b[0m:\u001b[36mseq_rabi\u001b[0m:\u001b[36m120\u001b[0m - \u001b[1m\n",
      "tau: 106 ns\n",
      "Base time: 1318 ns\u001b[0m\n",
      "\u001b[32m2024-12-11 11:07:42.212\u001b[0m | \u001b[1mINFO    \u001b[0m | \u001b[36mqscope.device.seqgen.pulseblaster.seq_rabi\u001b[0m:\u001b[36mseq_rabi\u001b[0m:\u001b[36m120\u001b[0m - \u001b[1m\n",
      "tau: 116 ns\n",
      "Base time: 1328 ns\u001b[0m\n",
      "\u001b[32m2024-12-11 11:07:42.212\u001b[0m | \u001b[1mINFO    \u001b[0m | \u001b[36mqscope.device.seqgen.pulseblaster.seq_rabi\u001b[0m:\u001b[36mseq_rabi\u001b[0m:\u001b[36m120\u001b[0m - \u001b[1m\n",
      "tau: 125 ns\n",
      "Base time: 1337 ns\u001b[0m\n",
      "\u001b[32m2024-12-11 11:07:42.222\u001b[0m | \u001b[1mINFO    \u001b[0m | \u001b[36mqscope.device.seqgen.pulseblaster.seq_rabi\u001b[0m:\u001b[36mseq_rabi\u001b[0m:\u001b[36m120\u001b[0m - \u001b[1m\n",
      "tau: 135 ns\n",
      "Base time: 1347 ns\u001b[0m\n",
      "\u001b[32m2024-12-11 11:07:42.228\u001b[0m | \u001b[1mINFO    \u001b[0m | \u001b[36mqscope.device.seqgen.pulseblaster.seq_rabi\u001b[0m:\u001b[36mseq_rabi\u001b[0m:\u001b[36m120\u001b[0m - \u001b[1m\n",
      "tau: 144 ns\n",
      "Base time: 1356 ns\u001b[0m\n",
      "\u001b[32m2024-12-11 11:07:42.232\u001b[0m | \u001b[1mINFO    \u001b[0m | \u001b[36mqscope.device.seqgen.pulseblaster.seq_rabi\u001b[0m:\u001b[36mseq_rabi\u001b[0m:\u001b[36m120\u001b[0m - \u001b[1m\n",
      "tau: 154 ns\n",
      "Base time: 1366 ns\u001b[0m\n",
      "\u001b[32m2024-12-11 11:07:42.234\u001b[0m | \u001b[1mINFO    \u001b[0m | \u001b[36mqscope.device.seqgen.pulseblaster.seq_rabi\u001b[0m:\u001b[36mseq_rabi\u001b[0m:\u001b[36m120\u001b[0m - \u001b[1m\n",
      "tau: 164 ns\n",
      "Base time: 1376 ns\u001b[0m\n",
      "\u001b[32m2024-12-11 11:07:42.234\u001b[0m | \u001b[1mINFO    \u001b[0m | \u001b[36mqscope.device.seqgen.pulseblaster.seq_rabi\u001b[0m:\u001b[36mseq_rabi\u001b[0m:\u001b[36m120\u001b[0m - \u001b[1m\n",
      "tau: 173 ns\n",
      "Base time: 1385 ns\u001b[0m\n",
      "\u001b[32m2024-12-11 11:07:42.245\u001b[0m | \u001b[1mINFO    \u001b[0m | \u001b[36mqscope.device.seqgen.pulseblaster.seq_rabi\u001b[0m:\u001b[36mseq_rabi\u001b[0m:\u001b[36m120\u001b[0m - \u001b[1m\n",
      "tau: 183 ns\n",
      "Base time: 1395 ns\u001b[0m\n",
      "\u001b[32m2024-12-11 11:07:42.250\u001b[0m | \u001b[1mINFO    \u001b[0m | \u001b[36mqscope.device.seqgen.pulseblaster.seq_rabi\u001b[0m:\u001b[36mseq_rabi\u001b[0m:\u001b[36m120\u001b[0m - \u001b[1m\n",
      "tau: 192 ns\n",
      "Base time: 1404 ns\u001b[0m\n",
      "\u001b[32m2024-12-11 11:07:42.251\u001b[0m | \u001b[1mINFO    \u001b[0m | \u001b[36mqscope.device.seqgen.pulseblaster.seq_rabi\u001b[0m:\u001b[36mseq_rabi\u001b[0m:\u001b[36m120\u001b[0m - \u001b[1m\n",
      "tau: 202 ns\n",
      "Base time: 1414 ns\u001b[0m\n",
      "\u001b[32m2024-12-11 11:07:42.251\u001b[0m | \u001b[1mINFO    \u001b[0m | \u001b[36mqscope.device.seqgen.pulseblaster.seq_rabi\u001b[0m:\u001b[36mseq_rabi\u001b[0m:\u001b[36m120\u001b[0m - \u001b[1m\n",
      "tau: 212 ns\n",
      "Base time: 1424 ns\u001b[0m\n",
      "\u001b[32m2024-12-11 11:07:42.263\u001b[0m | \u001b[1mINFO    \u001b[0m | \u001b[36mqscope.device.seqgen.pulseblaster.seq_rabi\u001b[0m:\u001b[36mseq_rabi\u001b[0m:\u001b[36m120\u001b[0m - \u001b[1m\n",
      "tau: 221 ns\n",
      "Base time: 1433 ns\u001b[0m\n",
      "\u001b[32m2024-12-11 11:07:42.267\u001b[0m | \u001b[1mINFO    \u001b[0m | \u001b[36mqscope.device.seqgen.pulseblaster.seq_rabi\u001b[0m:\u001b[36mseq_rabi\u001b[0m:\u001b[36m120\u001b[0m - \u001b[1m\n",
      "tau: 231 ns\n",
      "Base time: 1443 ns\u001b[0m\n",
      "\u001b[32m2024-12-11 11:07:42.271\u001b[0m | \u001b[1mINFO    \u001b[0m | \u001b[36mqscope.device.seqgen.pulseblaster.seq_rabi\u001b[0m:\u001b[36mseq_rabi\u001b[0m:\u001b[36m120\u001b[0m - \u001b[1m\n",
      "tau: 240 ns\n",
      "Base time: 1452 ns\u001b[0m\n",
      "\u001b[32m2024-12-11 11:07:42.274\u001b[0m | \u001b[1mINFO    \u001b[0m | \u001b[36mqscope.device.seqgen.pulseblaster.seq_rabi\u001b[0m:\u001b[36mseq_rabi\u001b[0m:\u001b[36m120\u001b[0m - \u001b[1m\n",
      "tau: 250 ns\n",
      "Base time: 1462 ns\u001b[0m\n",
      "\u001b[32m2024-12-11 11:07:42.278\u001b[0m | \u001b[1mINFO    \u001b[0m | \u001b[36mqscope.device.seqgen.pulseblaster.seq_rabi\u001b[0m:\u001b[36mseq_rabi\u001b[0m:\u001b[36m120\u001b[0m - \u001b[1m\n",
      "tau: 260 ns\n",
      "Base time: 1472 ns\u001b[0m\n",
      "\u001b[32m2024-12-11 11:07:42.282\u001b[0m | \u001b[1mINFO    \u001b[0m | \u001b[36mqscope.device.seqgen.pulseblaster.seq_rabi\u001b[0m:\u001b[36mseq_rabi\u001b[0m:\u001b[36m120\u001b[0m - \u001b[1m\n",
      "tau: 269 ns\n",
      "Base time: 1481 ns\u001b[0m\n",
      "\u001b[32m2024-12-11 11:07:42.286\u001b[0m | \u001b[1mINFO    \u001b[0m | \u001b[36mqscope.device.seqgen.pulseblaster.seq_rabi\u001b[0m:\u001b[36mseq_rabi\u001b[0m:\u001b[36m120\u001b[0m - \u001b[1m\n",
      "tau: 279 ns\n",
      "Base time: 1491 ns\u001b[0m\n",
      "\u001b[32m2024-12-11 11:07:42.290\u001b[0m | \u001b[1mINFO    \u001b[0m | \u001b[36mqscope.device.seqgen.pulseblaster.seq_rabi\u001b[0m:\u001b[36mseq_rabi\u001b[0m:\u001b[36m120\u001b[0m - \u001b[1m\n",
      "tau: 288 ns\n",
      "Base time: 1500 ns\u001b[0m\n",
      "\u001b[32m2024-12-11 11:07:42.294\u001b[0m | \u001b[1mINFO    \u001b[0m | \u001b[36mqscope.device.seqgen.pulseblaster.seq_rabi\u001b[0m:\u001b[36mseq_rabi\u001b[0m:\u001b[36m120\u001b[0m - \u001b[1m\n",
      "tau: 298 ns\n",
      "Base time: 1510 ns\u001b[0m\n",
      "\u001b[32m2024-12-11 11:07:42.295\u001b[0m | \u001b[1mINFO    \u001b[0m | \u001b[36mqscope.device.seqgen.pulseblaster.seq_rabi\u001b[0m:\u001b[36mseq_rabi\u001b[0m:\u001b[36m120\u001b[0m - \u001b[1m\n",
      "tau: 308 ns\n",
      "Base time: 1520 ns\u001b[0m\n",
      "\u001b[32m2024-12-11 11:07:42.295\u001b[0m | \u001b[1mINFO    \u001b[0m | \u001b[36mqscope.device.seqgen.pulseblaster.seq_rabi\u001b[0m:\u001b[36mseq_rabi\u001b[0m:\u001b[36m120\u001b[0m - \u001b[1m\n",
      "tau: 317 ns\n",
      "Base time: 1529 ns\u001b[0m\n",
      "\u001b[32m2024-12-11 11:07:42.305\u001b[0m | \u001b[1mINFO    \u001b[0m | \u001b[36mqscope.device.seqgen.pulseblaster.seq_rabi\u001b[0m:\u001b[36mseq_rabi\u001b[0m:\u001b[36m120\u001b[0m - \u001b[1m\n",
      "tau: 327 ns\n",
      "Base time: 1539 ns\u001b[0m\n",
      "\u001b[32m2024-12-11 11:07:42.311\u001b[0m | \u001b[1mINFO    \u001b[0m | \u001b[36mqscope.device.seqgen.pulseblaster.seq_rabi\u001b[0m:\u001b[36mseq_rabi\u001b[0m:\u001b[36m120\u001b[0m - \u001b[1m\n",
      "tau: 336 ns\n",
      "Base time: 1548 ns\u001b[0m\n",
      "\u001b[32m2024-12-11 11:07:42.316\u001b[0m | \u001b[1mINFO    \u001b[0m | \u001b[36mqscope.device.seqgen.pulseblaster.seq_rabi\u001b[0m:\u001b[36mseq_rabi\u001b[0m:\u001b[36m120\u001b[0m - \u001b[1m\n",
      "tau: 346 ns\n",
      "Base time: 1558 ns\u001b[0m\n",
      "\u001b[32m2024-12-11 11:07:42.320\u001b[0m | \u001b[1mINFO    \u001b[0m | \u001b[36mqscope.device.seqgen.pulseblaster.seq_rabi\u001b[0m:\u001b[36mseq_rabi\u001b[0m:\u001b[36m120\u001b[0m - \u001b[1m\n",
      "tau: 356 ns\n",
      "Base time: 1568 ns\u001b[0m\n",
      "\u001b[32m2024-12-11 11:07:42.324\u001b[0m | \u001b[1mINFO    \u001b[0m | \u001b[36mqscope.device.seqgen.pulseblaster.seq_rabi\u001b[0m:\u001b[36mseq_rabi\u001b[0m:\u001b[36m120\u001b[0m - \u001b[1m\n",
      "tau: 365 ns\n",
      "Base time: 1577 ns\u001b[0m\n",
      "\u001b[32m2024-12-11 11:07:42.328\u001b[0m | \u001b[1mINFO    \u001b[0m | \u001b[36mqscope.device.seqgen.pulseblaster.seq_rabi\u001b[0m:\u001b[36mseq_rabi\u001b[0m:\u001b[36m120\u001b[0m - \u001b[1m\n",
      "tau: 375 ns\n",
      "Base time: 1587 ns\u001b[0m\n",
      "\u001b[32m2024-12-11 11:07:42.329\u001b[0m | \u001b[1mINFO    \u001b[0m | \u001b[36mqscope.device.seqgen.pulseblaster.seq_rabi\u001b[0m:\u001b[36mseq_rabi\u001b[0m:\u001b[36m120\u001b[0m - \u001b[1m\n",
      "tau: 384 ns\n",
      "Base time: 1596 ns\u001b[0m\n",
      "\u001b[32m2024-12-11 11:07:42.329\u001b[0m | \u001b[1mINFO    \u001b[0m | \u001b[36mqscope.device.seqgen.pulseblaster.seq_rabi\u001b[0m:\u001b[36mseq_rabi\u001b[0m:\u001b[36m120\u001b[0m - \u001b[1m\n",
      "tau: 394 ns\n",
      "Base time: 1606 ns\u001b[0m\n",
      "\u001b[32m2024-12-11 11:07:42.339\u001b[0m | \u001b[1mINFO    \u001b[0m | \u001b[36mqscope.device.seqgen.pulseblaster.seq_rabi\u001b[0m:\u001b[36mseq_rabi\u001b[0m:\u001b[36m120\u001b[0m - \u001b[1m\n",
      "tau: 404 ns\n",
      "Base time: 1616 ns\u001b[0m\n",
      "\u001b[32m2024-12-11 11:07:42.345\u001b[0m | \u001b[1mINFO    \u001b[0m | \u001b[36mqscope.device.seqgen.pulseblaster.seq_rabi\u001b[0m:\u001b[36mseq_rabi\u001b[0m:\u001b[36m120\u001b[0m - \u001b[1m\n",
      "tau: 413 ns\n",
      "Base time: 1625 ns\u001b[0m\n",
      "\u001b[32m2024-12-11 11:07:42.348\u001b[0m | \u001b[1mINFO    \u001b[0m | \u001b[36mqscope.device.seqgen.pulseblaster.seq_rabi\u001b[0m:\u001b[36mseq_rabi\u001b[0m:\u001b[36m120\u001b[0m - \u001b[1m\n",
      "tau: 423 ns\n",
      "Base time: 1635 ns\u001b[0m\n",
      "\u001b[32m2024-12-11 11:07:42.351\u001b[0m | \u001b[1mINFO    \u001b[0m | \u001b[36mqscope.device.seqgen.pulseblaster.seq_rabi\u001b[0m:\u001b[36mseq_rabi\u001b[0m:\u001b[36m120\u001b[0m - \u001b[1m\n",
      "tau: 432 ns\n",
      "Base time: 1644 ns\u001b[0m\n",
      "\u001b[32m2024-12-11 11:07:42.351\u001b[0m | \u001b[1mINFO    \u001b[0m | \u001b[36mqscope.device.seqgen.pulseblaster.seq_rabi\u001b[0m:\u001b[36mseq_rabi\u001b[0m:\u001b[36m120\u001b[0m - \u001b[1m\n",
      "tau: 442 ns\n",
      "Base time: 1654 ns\u001b[0m\n",
      "\u001b[32m2024-12-11 11:07:42.351\u001b[0m | \u001b[1mINFO    \u001b[0m | \u001b[36mqscope.device.seqgen.pulseblaster.seq_rabi\u001b[0m:\u001b[36mseq_rabi\u001b[0m:\u001b[36m120\u001b[0m - \u001b[1m\n",
      "tau: 452 ns\n",
      "Base time: 1664 ns\u001b[0m\n",
      "\u001b[32m2024-12-11 11:07:42.362\u001b[0m | \u001b[1mINFO    \u001b[0m | \u001b[36mqscope.device.seqgen.pulseblaster.seq_rabi\u001b[0m:\u001b[36mseq_rabi\u001b[0m:\u001b[36m120\u001b[0m - \u001b[1m\n",
      "tau: 461 ns\n",
      "Base time: 1673 ns\u001b[0m\n",
      "\u001b[32m2024-12-11 11:07:42.362\u001b[0m | \u001b[1mINFO    \u001b[0m | \u001b[36mqscope.device.seqgen.pulseblaster.seq_rabi\u001b[0m:\u001b[36mseq_rabi\u001b[0m:\u001b[36m120\u001b[0m - \u001b[1m\n",
      "tau: 471 ns\n",
      "Base time: 1683 ns\u001b[0m\n",
      "\u001b[32m2024-12-11 11:07:42.362\u001b[0m | \u001b[1mINFO    \u001b[0m | \u001b[36mqscope.device.seqgen.pulseblaster.seq_rabi\u001b[0m:\u001b[36mseq_rabi\u001b[0m:\u001b[36m120\u001b[0m - \u001b[1m\n",
      "tau: 480 ns\n",
      "Base time: 1692 ns\u001b[0m\n",
      "\u001b[32m2024-12-11 11:07:42.372\u001b[0m | \u001b[1mINFO    \u001b[0m | \u001b[36mqscope.device.seqgen.pulseblaster.seq_rabi\u001b[0m:\u001b[36mseq_rabi\u001b[0m:\u001b[36m120\u001b[0m - \u001b[1m\n",
      "tau: 490 ns\n",
      "Base time: 1702 ns\u001b[0m\n",
      "\u001b[32m2024-12-11 11:07:42.377\u001b[0m | \u001b[1mINFO    \u001b[0m | \u001b[36mqscope.device.seqgen.pulseblaster.seq_rabi\u001b[0m:\u001b[36mseq_rabi\u001b[0m:\u001b[36m120\u001b[0m - \u001b[1m\n",
      "tau: 500 ns\n",
      "Base time: 1712 ns\u001b[0m\n"
     ]
    }
   ],
   "source": [
    "sweep_x = np.linspace(20, 500, 51)*1e-9\n",
    "\n",
    "# Program the pulse sequence\n",
    "pk_sig, pk_ref = seq_rabi(\n",
    "    seqgen= seqgen_pb,\n",
    "    sequence_params=sequence_params,\n",
    "    sweep_x=sweep_x,\n",
    "    ref_mode = \"no_rf\",\n",
    "    exp_t = 30e-3,\n",
    "    laser_dur=1e-6,\n",
    "    laser_delay=300e-9,\n",
    "    # laser_to_rf_delay=200e-9,\n",
    "    rf_dur=1e-9,\n",
    "    rf_delay=50e-9,\n",
    "    sweep_len = 21,\n",
    "    avg_per_point = 1,\n",
    "    camera_trig_time = 1e-3,\n",
    ")\n",
    "        \n",
    "# seqgen_pb.is_connected()"
   ]
  },
  {
   "cell_type": "code",
   "execution_count": 109,
   "metadata": {},
   "outputs": [
    {
     "data": {
      "text/plain": [
       "[{'active_chs': ['laser'], 'dur': 1000, 'const_chs': []},\n",
       " {'active_chs': [], 'dur': np.int64(450), 'const_chs': []},\n",
       " {'active_chs': ['rf_x'], 'dur': np.int64(11), 'const_chs': []},\n",
       " {'active_chs': [], 'dur': np.int64(62), 'const_chs': []}]"
      ]
     },
     "execution_count": 109,
     "metadata": {},
     "output_type": "execute_result"
    }
   ],
   "source": [
    "pk_sig.reset_kernel()\n",
    "pk_sig.update_var_durs(20-9)\n",
    "pk_sig.convert_to_instructions()\n",
    "pk_sig.insts"
   ]
  },
  {
   "cell_type": "code",
   "execution_count": 110,
   "metadata": {},
   "outputs": [
    {
     "data": {
      "image/png": "[encoded data removed]",
      "text/plain": [
       "<Figure size 1000x500 with 1 Axes>"
      ]
     },
     "metadata": {},
     "output_type": "display_data"
    }
   ],
   "source": [
    "pk_sig.plot_inst_kernel()"
   ]
  },
  {
   "cell_type": "code",
   "execution_count": 85,
   "metadata": {},
   "outputs": [],
   "source": [
    "seqgen_pb.start()\n"
   ]
  },
  {
   "cell_type": "code",
   "execution_count": 86,
   "metadata": {},
   "outputs": [],
   "source": [
    "seqgen_pb.stop()"
   ]
  },
  {
   "cell_type": "code",
   "execution_count": null,
   "metadata": {},
   "outputs": [],
   "source": [
    "seqgen_pb.close()"
   ]
  },
  {
   "cell_type": "markdown",
   "metadata": {},
   "source": [
    "# Example of a rabi sequence with varying rf time\n",
    "\n",
    "Used to test programming sequences. \n"
   ]
  },
  {
   "cell_type": "code",
   "execution_count": null,
   "metadata": {},
   "outputs": [],
   "source": [
    "seqgen = dummy_pb()\n",
    "\n",
    "avg_per_point = 2\n",
    "int_time = 100e-6\n",
    "num_loops = 1e3\n",
    "tau = 100e-9\n",
    "trig_time = 10e-6\n",
    "trig_loops = 1e2\n",
    "\n",
    "\n",
    "# --- SIGNAL KERNEL ---\n",
    "# initialise the pulse series object\n",
    "pk_sig = PulseKernel(ch_defs)\n",
    "# Program the kernel pulses\n",
    "pk_sig.add_pulse([\"laser\"], 0, laser_dur, ch_delay=laser_delay)\n",
    "pk_sig.append_delay(laser_to_rf_delay)\n",
    "pk_sig.append_pulse([\"rf_x\"], rf_dur, ch_delay=rf_delay, var_dur=True)\n",
    "\n",
    "# --- REFERENCE KERNEL ---\n",
    "# Program the kernel pulses\n",
    "pk_ref = PulseKernel(ch_defs)\n",
    "# Program the kernel pulses\n",
    "pk_ref.add_pulse([\"laser\"], 0, laser_dur, ch_delay=laser_delay)\n",
    "pk_ref.append_delay(laser_to_rf_delay)\n",
    "pk_ref.append_delay(rf_dur, var_dur=True)\n",
    "\n",
    "# --- PROGRAMMING ---\n",
    "seqgen.start_programming()\n",
    "# Initial laser pulse\n",
    "seqgen.add_instruction(**{\"active_chs\": [\"laser\"], \"dur\": laser_dur})\n",
    "\n",
    "time_list = np.linspace(12e-9, 5e-6, 10)\n",
    "\n",
    "for t in time_list:\n",
    "    # Start the per point average loop if required \n",
    "    if avg_per_point > 1:\n",
    "        inst = seqgen.add_instruction([], \n",
    "                                    12e-9, \n",
    "                                    loop=\"start\", \n",
    "                                    num=avg_per_point, \n",
    "                                    const_chs=[\"camera\"])\n",
    "    # update the time in the kernel\n",
    "    pk_sig.update_var_durs(t)\n",
    "\n",
    "    # Add the SIG kernel to the sequence generator\n",
    "    seqgen.add_kernel(pk_sig, num_loops, const_chs=[\"camera\"])\n",
    "    seqgen.add_kernel(pk_sig, trig_loops, const_chs=[\"rf_trig\"])\n",
    "\n",
    "    # update the time in the kernel\n",
    "    pk_ref.update_var_durs(t)\n",
    "    # Add the REF kernel to the sequence generator\n",
    "    seqgen.add_kernel(pk_ref, num_loops, const_chs=[\"camera\"])\n",
    "    seqgen.add_kernel(pk_ref, trig_loops, const_chs=[\"rf_trig\"])\n",
    "\n",
    "    if avg_per_point > 1:\n",
    "        seqgen.add_instruction([], 12e-9, loop=\"end\", inst=inst)\n",
    "\n",
    "seqgen.add_instruction([], trig_time)\n",
    "seqgen.end_sequence(10e6)\n",
    "seqgen.stop_programming()"
   ]
  }
 ],
 "metadata": {
  "kernelspec": {
   "display_name": "Python 3",
   "language": "python",
   "name": "python3"
  },
  "language_info": {
   "codemirror_mode": {
    "name": "ipython",
    "version": 3
   },
   "file_extension": ".py",
   "mimetype": "text/x-python",
   "name": "python",
   "nbconvert_exporter": "python",
   "pygments_lexer": "ipython3",
   "version": "3.11.10"
  },
  "orig_nbformat": 4
 },
 "nbformat": 4,
 "nbformat_minor": 2
}
