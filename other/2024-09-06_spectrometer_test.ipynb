{
 "cells": [
  {
   "cell_type": "code",
   "execution_count": 2,
   "metadata": {},
   "outputs": [],
   "source": [
    "import numpy as np\n",
    "import matplotlib.pyplot as plt\n",
    "import matplotlib as mpl"
   ]
  },
  {
   "cell_type": "code",
   "execution_count": 3,
   "metadata": {},
   "outputs": [
    {
     "name": "stdout",
     "output_type": "stream",
     "text": [
      "['C:\\\\ExperimentalData\\\\2024\\\\2024-09\\\\2024-09-09_K_spec_test', 'C:\\\\Program Files\\\\Ocean Optics\\\\OceanDirect SDK\\\\Python', 'C:\\\\ProgramData\\\\Anaconda3\\\\python39.zip', 'C:\\\\ProgramData\\\\Anaconda3\\\\DLLs', 'C:\\\\ProgramData\\\\Anaconda3\\\\lib', 'C:\\\\ProgramData\\\\Anaconda3', '', 'C:\\\\ProgramData\\\\Anaconda3\\\\lib\\\\site-packages', 'C:\\\\ProgramData\\\\Anaconda3\\\\lib\\\\site-packages\\\\win32', 'C:\\\\ProgramData\\\\Anaconda3\\\\lib\\\\site-packages\\\\win32\\\\lib', 'C:\\\\ProgramData\\\\Anaconda3\\\\lib\\\\site-packages\\\\Pythonwin', 'C:\\\\ProgramData\\\\Anaconda3\\\\lib\\\\site-packages\\\\IPython\\\\extensions', 'C:\\\\Users\\\\GMX\\\\.ipython']\n"
     ]
    }
   ],
   "source": [
    "import sys\n",
    "import os\n",
    "# dirty method to add ocean direct SDK to path\n",
    "sys.path.insert(1, os.path.abspath(r'C:\\Program Files\\Ocean Optics\\OceanDirect SDK\\Python'))\n",
    "print(sys.path)"
   ]
  },
  {
   "cell_type": "code",
   "execution_count": 18,
   "metadata": {},
   "outputs": [],
   "source": [
    "\n",
    "# not sure yet\n",
    "def get_spec_formatted(device, sn):\n",
    "    try:\n",
    "        #device.set_electric_dark_correction_usage(False);\n",
    "        #device.set_nonlinearity_correction_usage(False);\n",
    "\n",
    "        #10ms\n",
    "        device.set_integration_time(10000);\n",
    "\n",
    "        print(\"Reading spectra for dev s/n = %s\" % sn, flush=True)\n",
    "        for i in range(10):\n",
    "            spectra = device.get_formatted_spectrum()\n",
    "            print(\"spectra[100,200,300,400]: %d, %d, %d, %d\" % (spectra[100], spectra[200], spectra[300], spectra[400]), flush=True)\n",
    "    except OceanDirectError as e:\n",
    "        logger.error(e.get_error_details())"
   ]
  },
  {
   "cell_type": "code",
   "execution_count": 4,
   "metadata": {},
   "outputs": [
    {
     "name": "stdout",
     "output_type": "stream",
     "text": [
      "Found 1 devices\n",
      "Device 0: 2\n"
     ]
    }
   ],
   "source": [
    "from oceandirect.OceanDirectAPI import OceanDirectAPI, OceanDirectError, FeatureID\n",
    "from oceandirect.od_logger import od_logger\n",
    "\n",
    "# Initialise devices (proper?)\n",
    "logger = od_logger()\n",
    "od = OceanDirectAPI()\n",
    "device_count = od.find_usb_devices()\n",
    "device_ids = od.get_device_ids()\n",
    "print(\"Found %d devices\" % device_count)\n",
    "for i in range(device_count):\n",
    "    print(\"Device %d: %s\" % (i, device_ids[i]))\n",
    "\n",
    "# # not useful\n",
    "# (major, minor, point) = od.get_api_version_numbers()\n",
    "# print(\"API Version  : %d.%d.%d \" % (major, minor, point))\n",
    "# print(\"Total Device : %d     \\n\" % device_count)\n",
    "\n",
    "# if device_count == 0:\n",
    "#     print(\"No device found.\")\n",
    "# else:\n",
    "#     for id in device_ids:\n",
    "#         device       = od.open_device(id)\n",
    "#         serialNumber = device.get_serial_number()\n",
    "\n",
    "#         print(\"First Device : %d       \" % id)\n",
    "#         print(\"Serial Number: %s     \\n\" % serialNumber)\n",
    "\n",
    "#         get_spec_formatted(device, serialNumber)\n",
    "\n",
    "#         print(\"Closing device!\\n\")\n",
    "#         od.close_device(id)"
   ]
  },
  {
   "cell_type": "code",
   "execution_count": 7,
   "metadata": {},
   "outputs": [
    {
     "name": "stdout",
     "output_type": "stream",
     "text": [
      "OCEANHR6\n"
     ]
    }
   ],
   "source": [
    "from oceandirect.OceanDirectAPI import OceanDirectAPI, OceanDirectError, FeatureID\n",
    "from oceandirect.od_logger import od_logger\n",
    "\n",
    "\n",
    "## need to update with choice of logger\n",
    "\n",
    "####\n",
    "# Initialisation simplified\n",
    "####\n",
    "od = OceanDirectAPI()\n",
    "device_count = od.find_usb_devices()\n",
    "\n",
    "# Let's assume there is only one device connected\n",
    "device_ids = od.get_device_ids()\n",
    "id = device_ids[0]\n",
    "\n",
    "# open device\n",
    "device = od.open_device(id)\n",
    "\n",
    "# Get info to check it worked\n",
    "serialNumber = device.get_serial_number()\n",
    "print(device.get_model())\n",
    "# print(device.get_device_type()) \n",
    "\n",
    "# to ensure spectrum is always has the maximum number of wavelegnths\n",
    "num_pixels = device.get_formatted_spectrum_length()\n",
    "\n",
    "####\n",
    "# Set parameters\n",
    "####\n",
    "num_ave_scans = 5\n",
    "integrationTime = 50000\n",
    "wavelength_lo = 450\n",
    "wavelength_hi = 455\n",
    "acquisition_delay = 0\n",
    "\n",
    "####\n",
    "# Update parameters values\n",
    "####\n",
    "# Update integration time to be between physical limits\n",
    "integrationTime = min(device.get_maximum_integration_time(), \n",
    "                    max(device.get_minimum_integration_time(), \n",
    "                    device.get_minimum_averaging_integration_time(), \n",
    "                    integrationTime,\n",
    "                        )\n",
    "                    )\n",
    "\n",
    "# Update acquisition time to be between physical limits\n",
    "acquisition_delay = min(device.get_acquisition_delay_maximum(),\n",
    "                        max(acquisition_delay, \n",
    "                            device.get_acquisition_delay_minimum()\n",
    "                            )\n",
    "                        )\n",
    "\n",
    "####\n",
    "# Set parameters on device\n",
    "####\n",
    "# Set number of scans to average\n",
    "try:\n",
    "    device.set_scans_to_average(num_ave_scans)\n",
    "except OceanDirectError as err:\n",
    "    [errorCode, errorMsg] = err.get_error_details()\n",
    "    print(\"set_scans_to_average: exception / %d = %s\" % (errorCode, errorMsg))\n",
    "    \n",
    "# Set acquisition delay\n",
    "try:\n",
    "    device.set_acquisition_delay(acquisition_delay)\n",
    "except OceanDirectError as err:\n",
    "    [errorCode, errorMsg] = err.get_error_details()\n",
    "    print(\"set_acquisition_delay: exception / %d = %s\" % (errorCode, errorMsg))\n",
    "    \n",
    "# Set integration time\n",
    "try:\n",
    "    device.set_integration_time(integrationTime)\n",
    "except OceanDirectError as err:\n",
    "    [errorCode, errorMsg] = err.get_error_details()\n",
    "    print(\"set_integration_time: exception / %d = %s\" % (errorCode, errorMsg))\n",
    "\n",
    "\n",
    "####\n",
    "# Get actual parameters from device\n",
    "####\n",
    "\n",
    "\n",
    "\n",
    "####\n",
    "# Perform measurements\n",
    "####\n",
    "# Get spectrum\n",
    "\n",
    "try:\n",
    "    spectrum = device.get_formatted_spectrum()\n",
    "\n",
    "    # List of the indices and wavelengths to be measured\n",
    "    wls_idx, wls  = device.get_indices_at_wavelength_range(\n",
    "          wavelength_lo, wavelength_hi, num_pixels\n",
    "          )\n",
    "\n",
    "    # List of the intensities at the wavelengths specified\n",
    "    intensity_vals = [spectrum[i] for i in wls_idx]\n",
    "except OceanDirectError as e:\n",
    "        [errorCode, errorMsg] = err.get_error_details()\n",
    "        print(\"get_spec_formatted(device): exception / %d = %s\" % (errorCode, errorMsg))\n",
    "\n",
    "\n",
    "#### Need to add store of \"dark\" spectrum but probably just use SW\n",
    "\n",
    "\n",
    "# device.set_stored_dark_spectrum(spectra)\n",
    "# print(device.get_electric_dark_pixel_indices())\n",
    "\n",
    "od.close_device(id)"
   ]
  },
  {
   "cell_type": "code",
   "execution_count": 15,
   "metadata": {},
   "outputs": [
    {
     "data": {
      "text/plain": [
       "[450.27999304656095,\n",
       " 450.74084177821004,\n",
       " 451.201665838806,\n",
       " 451.66246522674146,\n",
       " 452.1232399404092,\n",
       " 452.5839899782018,\n",
       " 453.0447153385121,\n",
       " 453.5054160197327,\n",
       " 453.96609202025627,\n",
       " 454.4267433384756,\n",
       " 454.88736997278335]"
      ]
     },
     "execution_count": 15,
     "metadata": {},
     "output_type": "execute_result"
    }
   ],
   "source": [
    "wls"
   ]
  },
  {
   "cell_type": "code",
   "execution_count": 91,
   "metadata": {},
   "outputs": [
    {
     "name": "stdout",
     "output_type": "stream",
     "text": [
      "27.59814085913352\n"
     ]
    }
   ],
   "source": [
    "# Electric dark pixel correction?\n",
    "# get_number_electric_dark_pixels\n",
    "# get_electric_dark_pixel_indices() \n",
    "\n",
    "\n",
    "\n",
    "# Dark spectrum - not sure if we want to use spectrometer or do this in software\n",
    "\n",
    "#  def set_stored_dark_spectrum(self, darkSpectrum: list[float]) -> None:\n",
    "#         \"\"\"!\n",
    "#         Store a dark spectrum for use in subsequent corrections i.e. dark correction and nonlinearity correction.\n",
    "#         @see getStoredDarkSpectrum.\n",
    "\n",
    "        \n",
    "#  def get_stored_dark_spectrum(self) -> list[float]:\n",
    "#         \"\"\"!\n",
    "#         Retrieve a previously stored dark spectrum for use in subsequent corrections i.e. dark correction and nonlinearity correction.\n",
    "\n",
    "\n",
    "\n",
    "# get_dark_corrected_spectrum1(self, darkSpectrum: list[float]) -> list[float]:\n",
    "#         \"\"\"!\n",
    "#         Acquire a spectrum and use the supplied dark spectrum to perform a dark correction then return the dark corrected spectrum.\n",
    "\n",
    "# def get_dark_corrected_spectrum2(self) -> list[float]:\n",
    "#         \"\"\"!\n",
    "#         Acquire a spectrum and use the previously stored dark spectrum to perform a dark correction then return the dark corrected spectrum.\n"
   ]
  },
  {
   "cell_type": "code",
   "execution_count": null,
   "metadata": {},
   "outputs": [],
   "source": [
    "# set_integration_time\n",
    "\n",
    "# get_index_at_wavelength\n",
    "# get_indices_at_wavelengths\n",
    "# get_indices_at_wavelength_range\n",
    "# get_wavelengths\n",
    "\n",
    "# set_acquisition_delay\n",
    "\n",
    "# set_stored_dark_spectrum\n",
    "\n",
    "# set_scans_to_average\n",
    "# get_scans_to_average\n",
    "\n",
    "# set_boxcar_width\n",
    "# get_boxcar_width\n",
    "\n",
    "# get_max_intensity\n",
    "\n",
    "# get_formatted_spectrum_length\n",
    "\n",
    "# get_minimum_integration_time\n",
    "# get_maximum_integration_time\n",
    "# get_minimum_averaging_integration_time\n",
    "\n",
    "# device.Advanced.get_raw_spectrum_with_metadata(spectra, timestamp, 3)\n",
    "\n",
    "# Advanced.reset_device()"
   ]
  }
 ],
 "metadata": {
  "kernelspec": {
   "display_name": "Python 3 (ipykernel)",
   "language": "python",
   "name": "python3"
  },
  "language_info": {
   "codemirror_mode": {
    "name": "ipython",
    "version": 3
   },
   "file_extension": ".py",
   "mimetype": "text/x-python",
   "name": "python",
   "nbconvert_exporter": "python",
   "pygments_lexer": "ipython3",
   "version": "3.9.13"
  },
  "vscode": {
   "interpreter": {
    "hash": "fd14943659e4e1bacfadf562e4eef48f4bfcbb880b4556b14ddf31a573089390"
   }
  }
 },
 "nbformat": 4,
 "nbformat_minor": 2
}
