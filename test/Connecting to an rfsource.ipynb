{
 "cells": [
  {
   "cell_type": "markdown",
   "metadata": {},
   "source": [
    "# Opening the rf source by passing the system"
   ]
  },
  {
   "cell_type": "code",
   "execution_count": 2,
   "metadata": {},
   "outputs": [],
   "source": [
    "import os\n",
    "\n",
    "import matplotlib as mpl\n",
    "import matplotlib.pyplot as plt\n",
    "import numpy as np\n",
    "import pylablib as pll\n",
    "import pylablib.devices.Andor\n",
    "from loguru import logger\n",
    "from mpl_toolkits.axes_grid1 import make_axes_locatable\n",
    "\n",
    "from qscope.device import Camera, RFSource, SynthNV, SynthNVPro, Zyla42\n",
    "from qscope.system.config import HQDM, Mock\n",
    "from qscope.types import PRIMARY_RF, SEQUENCE_GEN\n",
    "from qscope.util.logging import format_error_response\n",
    "\n",
    "port = \"COM9\"\n",
    "\n",
    "# siggen = SynthNV(port)\n",
    "# siggen.open()"
   ]
  },
  {
   "cell_type": "code",
   "execution_count": null,
   "metadata": {},
   "outputs": [],
   "source": [
    "# # Set the frequency of the signal generator\n",
    "# siggen.set_freq(3000)\n",
    "# # Set the power of the signal generator\n",
    "# siggen.set_pow(-20)\n",
    "# # Turn on the signal generator\n",
    "# siggen.set_output(True)"
   ]
  },
  {
   "cell_type": "code",
   "execution_count": null,
   "metadata": {},
   "outputs": [],
   "source": [
    "# # Close the connection to the signal generator\n",
    "# siggen.close()\n"
   ]
  },
  {
   "cell_type": "markdown",
   "metadata": {},
   "source": [
    "# Opening the rf source through the system"
   ]
  },
  {
   "cell_type": "code",
   "execution_count": 6,
   "metadata": {},
   "outputs": [
    {
     "name": "stderr",
     "output_type": "stream",
     "text": [
      "\u001B[32m2024-12-09 09:50:06.331\u001B[0m | \u001B[1mINFO    \u001B[0m | \u001B[36mqscope.system.system\u001B[0m:\u001B[36m_init_dev_config\u001B[0m:\u001B[36m335\u001B[0m - \u001B[1mInitialising devices.\u001B[0m\n",
      "\u001B[32m2024-12-09 09:50:06.332\u001B[0m | \u001B[1mINFO    \u001B[0m | \u001B[36mqscope.system.system\u001B[0m:\u001B[36m_init_dev_config\u001B[0m:\u001B[36m353\u001B[0m - \u001B[1mInitialized PulseBlaster with role SequenceGenerator\u001B[0m\n",
      "\u001B[32m2024-12-09 09:50:06.332\u001B[0m | \u001B[1mINFO    \u001B[0m | \u001B[36mqscope.system.system\u001B[0m:\u001B[36m_init_dev_config\u001B[0m:\u001B[36m353\u001B[0m - \u001B[1mInitialized SynthNV with role PrimaryRFSource\u001B[0m\n",
      "\u001B[32m2024-12-09 09:50:06.333\u001B[0m | \u001B[1mINFO    \u001B[0m | \u001B[36mqscope.system.system\u001B[0m:\u001B[36m_init_dev_config\u001B[0m:\u001B[36m353\u001B[0m - \u001B[1mInitialized Zyla42 with role MainCamera\u001B[0m\n",
      "\u001B[32m2024-12-09 09:50:06.344\u001B[0m | \u001B[1mINFO    \u001B[0m | \u001B[36mqscope.device.seqgen.pulseblaster.pulseblaster\u001B[0m:\u001B[36mopen\u001B[0m:\u001B[36m65\u001B[0m - \u001B[1mPulseblaster opened, status: {'stopped': False, 'reset': True, 'running': False, 'waiting': False}\u001B[0m\n",
      "\u001B[32m2024-12-09 09:50:06.346\u001B[0m | \u001B[1mINFO    \u001B[0m | \u001B[36mqscope.device.rfsource.windfreak.synthNV\u001B[0m:\u001B[36mopen\u001B[0m:\u001B[36m42\u001B[0m - \u001B[1mConnected to RF source: windfreak on port COM9\u001B[0m\n",
      "\u001B[32m2024-12-09 09:50:10.241\u001B[0m | \u001B[1mINFO    \u001B[0m | \u001B[36mqscope.device.camera.andor.andor\u001B[0m:\u001B[36mopen\u001B[0m:\u001B[36m61\u001B[0m - \u001B[1mConnected to Camera: TDeviceInfo(camera_name='Zyla', camera_model='ZYLA-5.5-USB3-W', serial_number='VSC-15006', firmware_version='15.8.12.0', software_version='3.15.30084.0')\u001B[0m\n"
     ]
    },
    {
     "data": {
      "text/plain": [
       "{'PulseBlaster_1': {'status': True, 'message': 'Pulseblaster opened'},\n",
       " 'SynthNV_1': {'status': True,\n",
       "  'message': 'Connected to RF source: windfreak on port COM9'},\n",
       " 'Zyla42_1': {'status': True,\n",
       "  'message': \"Connected to Camera: TDeviceInfo(camera_name='Zyla', camera_model='ZYLA-5.5-USB3-W', serial_number='VSC-15006', firmware_version='15.8.12.0', software_version='3.15.30084.0')\"}}"
      ]
     },
     "execution_count": 6,
     "metadata": {},
     "output_type": "execute_result"
    }
   ],
   "source": [
    "import matplotlib.pyplot as plt\n",
    "import numpy as np\n",
    "\n",
    "import qscope.device.seqgen.pulseblaster.spinapi as pb\n",
    "import qscope.system\n",
    "from qscope.device.seqgen.pulseblaster import PulseBlaster\n",
    "from qscope.system import SGCameraSystem\n",
    "from qscope.system.config import GMX, HQDM\n",
    "\n",
    "# open the system\n",
    "system = SGCameraSystem(GMX)\n",
    "system.startup()"
   ]
  },
  {
   "cell_type": "code",
   "execution_count": null,
   "metadata": {},
   "outputs": [
    {
     "name": "stderr",
     "output_type": "stream",
     "text": [
      "\u001B[32m2024-12-09 09:50:31.754\u001B[0m | \u001B[34m\u001B[1mDEBUG   \u001B[0m | \u001B[36mqscope.device.rfsource.windfreak.synthNV\u001B[0m:\u001B[36mset_freq\u001B[0m:\u001B[36m132\u001B[0m - \u001B[34m\u001B[1mSetting frequency to 3000 type <class 'int'>\u001B[0m\n",
      "\u001B[32m2024-12-09 09:50:31.758\u001B[0m | \u001B[34m\u001B[1mDEBUG   \u001B[0m | \u001B[36mqscope.device.rfsource.windfreak.synthNV\u001B[0m:\u001B[36mset_power\u001B[0m:\u001B[36m147\u001B[0m - \u001B[34m\u001B[1mSetting power to -40.4 type <class 'float'>\u001B[0m\n",
      "\u001B[32m2024-12-09 09:50:31.763\u001B[0m | \u001B[1mINFO    \u001B[0m | \u001B[36mqscope.system.system\u001B[0m:\u001B[36mset_rf_output\u001B[0m:\u001B[36m627\u001B[0m - \u001B[1mSetting RF output to True\u001B[0m\n",
      "\u001B[32m2024-12-09 09:50:31.764\u001B[0m | \u001B[1mINFO    \u001B[0m | \u001B[36mqscope.device.seqgen.pulseblaster.pulseblaster\u001B[0m:\u001B[36mrf_output\u001B[0m:\u001B[36m321\u001B[0m - \u001B[1mRF set to on\u001B[0m\n",
      "\u001B[32m2024-12-09 09:50:31.768\u001B[0m | \u001B[34m\u001B[1mDEBUG   \u001B[0m | \u001B[36mqscope.device.rfsource.windfreak.synthNV\u001B[0m:\u001B[36mset_state\u001B[0m:\u001B[36m163\u001B[0m - \u001B[34m\u001B[1mSetting output to ON\u001B[0m\n",
      "\u001B[32m2024-12-09 09:50:31.769\u001B[0m | \u001B[34m\u001B[1mDEBUG   \u001B[0m | \u001B[36mqscope.device.rfsource.windfreak.synthNV\u001B[0m:\u001B[36mset_state\u001B[0m:\u001B[36m163\u001B[0m - \u001B[34m\u001B[1mSetting output to ON\u001B[0m\n"
     ]
    },
    {
     "name": "stdout",
     "output_type": "stream",
     "text": [
      "Setting RF output to True\n",
      "b''\n",
      "<qscope.device.rfsource.windfreak.synthNV.SynthNV object at 0x000001EEB51658D0>\n"
     ]
    }
   ],
   "source": [
    "# set the RF parameters\n",
    "# Make a list of the RF sources\n",
    "rf_list = np.linspace(2950, 3050, 100)\n",
    "\n",
    "power = -40.4\n",
    "\n",
    "# system.rfsources[0].set_freq_list(rf_list)\n",
    "system.setup_single_rf_freq(3000, power)\n",
    "system.set_rf_output(PRIMARY_RF, True)\n",
    "\n",
    "# get the power\n",
    "print(\n",
    "    system.get_device_by_role(PRIMARY_RF).get_power()\n",
    ")  # this doesn't return anything atm, don't know why.\n",
    "print(system.get_device_by_role(PRIMARY_RF))"
   ]
  },
  {
   "cell_type": "code",
   "execution_count": 9,
   "metadata": {},
   "outputs": [
    {
     "name": "stderr",
     "output_type": "stream",
     "text": [
      "\u001B[32m2024-12-09 09:51:35.679\u001B[0m | \u001B[1mINFO    \u001B[0m | \u001B[36mqscope.device.camera.andor.andor\u001B[0m:\u001B[36mclose\u001B[0m:\u001B[36m69\u001B[0m - \u001B[1mDisconnected from Camera: ZYLA-5.5-USB3-W\u001B[0m\n"
     ]
    }
   ],
   "source": [
    "system.packdown()"
   ]
  },
  {
   "cell_type": "code",
   "execution_count": null,
   "metadata": {},
   "outputs": [],
   "source": []
  }
 ],
 "metadata": {
  "kernelspec": {
   "display_name": "Python 3",
   "language": "python",
   "name": "python3"
  },
  "language_info": {
   "codemirror_mode": {
    "name": "ipython",
    "version": 3
   },
   "file_extension": ".py",
   "mimetype": "text/x-python",
   "name": "python",
   "nbconvert_exporter": "python",
   "pygments_lexer": "ipython3",
   "version": "3.11.10"
  }
 },
 "nbformat": 4,
 "nbformat_minor": 2
}
