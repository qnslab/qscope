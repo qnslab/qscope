{
 "cells": [
  {
   "cell_type": "markdown",
   "metadata": {},
   "source": [
    "# Opening the sig gen by passing the system"
   ]
  },
  {
   "cell_type": "code",
   "execution_count": null,
   "metadata": {},
   "outputs": [],
   "source": [
    "import os\n",
    "\n",
    "import matplotlib as mpl\n",
    "import matplotlib.pyplot as plt\n",
    "import numpy as np\n",
    "import pylablib as pll\n",
    "import pylablib.devices.Andor\n",
    "from loguru import logger\n",
    "from mpl_toolkits.axes_grid1 import make_axes_locatable\n",
    "\n",
    "from qscope.device import Camera, RFSource, SynthNV, SynthNVPro, Zyla42\n",
    "from qscope.system.config import HQDM, MockSetup\n",
    "from qscope.util.logging import format_error_response\n",
    "\n",
    "system = HQDM()\n",
    "_, _, port = system.devices_config[1]\n",
    "\n",
    "siggen = SynthNV(system, port)\n",
    "siggen.open()"
   ]
  },
  {
   "cell_type": "code",
   "execution_count": 4,
   "metadata": {},
   "outputs": [],
   "source": [
    "# Set the frequency of the signal generator\n",
    "siggen.set_freq(3000)\n",
    "# Set the power of the signal generator\n",
    "siggen.set_pow(-20)\n",
    "# Turn on the signal generator\n",
    "siggen.set_output(True)"
   ]
  },
  {
   "cell_type": "code",
   "execution_count": 5,
   "metadata": {},
   "outputs": [],
   "source": [
    "# Close the connection to the signal generator\n",
    "siggen.close()"
   ]
  },
  {
   "cell_type": "markdown",
   "metadata": {},
   "source": [
    "# Opening the sig gen through the system"
   ]
  },
  {
   "cell_type": "code",
   "execution_count": 2,
   "metadata": {},
   "outputs": [
    {
     "name": "stderr",
     "output_type": "stream",
     "text": [
      "\u001B[32m2024-11-06 11:39:01.587\u001B[0m | \u001B[1mINFO    \u001B[0m | \u001B[36mqscope.system.system\u001B[0m:\u001B[36m_init_dev_config\u001B[0m:\u001B[36m30\u001B[0m - \u001B[1mInitialising devices.\u001B[0m\n",
      "\u001B[32m2024-11-06 11:39:01.587\u001B[0m | \u001B[1mINFO    \u001B[0m | \u001B[36mqscope.system.system\u001B[0m:\u001B[36m_init_dev_config\u001B[0m:\u001B[36m43\u001B[0m - \u001B[1mUsing PulseBlaster\u001B[0m\n",
      "\u001B[32m2024-11-06 11:39:01.587\u001B[0m | \u001B[1mINFO    \u001B[0m | \u001B[36mqscope.system.system\u001B[0m:\u001B[36m_init_dev_config\u001B[0m:\u001B[36m55\u001B[0m - \u001B[1mUsing: Windfreak SynthNV Pro.\u001B[0m\n",
      "\u001B[32m2024-11-06 11:39:01.587\u001B[0m | \u001B[1mINFO    \u001B[0m | \u001B[36mqscope.system.system\u001B[0m:\u001B[36m_init_dev_config\u001B[0m:\u001B[36m83\u001B[0m - \u001B[1mUsing Andor Zyla 4.2.\u001B[0m\n",
      "\u001B[32m2024-11-06 11:39:01.587\u001B[0m | \u001B[1mINFO    \u001B[0m | \u001B[36mqscope.device.seqgen.pulseblaster.spinapi\u001B[0m:\u001B[36m_checkloaded\u001B[0m:\u001B[36m77\u001B[0m - \u001B[1mUsing SpinAPI version b'20171214'\u001B[0m\n",
      "\u001B[32m2024-11-06 11:39:01.604\u001B[0m | \u001B[1mINFO    \u001B[0m | \u001B[36mqscope.device.seqgen.pulseblaster.pulseblaster\u001B[0m:\u001B[36mopen\u001B[0m:\u001B[36m56\u001B[0m - \u001B[1mPulseblaster opened, status: {'stopped': False, 'reset': True, 'running': False, 'waiting': False}\u001B[0m\n",
      "\u001B[32m2024-11-06 11:39:01.604\u001B[0m | \u001B[1mINFO    \u001B[0m | \u001B[36mqscope.device.rfsource.windfreak.synthNV\u001B[0m:\u001B[36mopen\u001B[0m:\u001B[36m47\u001B[0m - \u001B[1mConnected to RF source: windfreak on port COM3\u001B[0m\n",
      "\u001B[32m2024-11-06 11:39:06.306\u001B[0m | \u001B[1mINFO    \u001B[0m | \u001B[36mqscope.device.camera.andor.andor\u001B[0m:\u001B[36mopen\u001B[0m:\u001B[36m54\u001B[0m - \u001B[1mConnected to Camera: TDeviceInfo(camera_name='Zyla', camera_model='ZYLA-4.2P-USB3', serial_number='VSC-22941', firmware_version='15.8.12.0', software_version='3.15.30084.0')\u001B[0m\n"
     ]
    },
    {
     "data": {
      "text/plain": [
       "{'PulseBlaster_1': {'status': True, 'message': 'Pulseblaster opened'},\n",
       " 'SynthNV_1': {'status': True,\n",
       "  'message': 'Connected to RF source: windfreak on port COM3'},\n",
       " 'Zyla42_1': {'status': True,\n",
       "  'message': \"Connected to Camera: TDeviceInfo(camera_name='Zyla', camera_model='ZYLA-4.2P-USB3', serial_number='VSC-22941', firmware_version='15.8.12.0', software_version='3.15.30084.0')\"}}"
      ]
     },
     "execution_count": 2,
     "metadata": {},
     "output_type": "execute_result"
    }
   ],
   "source": [
    "import matplotlib.pyplot as plt\n",
    "import numpy as np\n",
    "\n",
    "import qscope.device.seqgen.pulseblaster.spinapi as pb\n",
    "import qscope.system\n",
    "from qscope.device.seqgen.pulseblaster import PulseBlaster\n",
    "from qscope.system import SGCameraSystem\n",
    "from qscope.system.config import HQDM, MockSetup\n",
    "\n",
    "# open the system\n",
    "system = SGCameraSystem(HQDM)\n",
    "system.startup()"
   ]
  },
  {
   "cell_type": "code",
   "execution_count": 3,
   "metadata": {},
   "outputs": [
    {
     "name": "stderr",
     "output_type": "stream",
     "text": [
      "\u001B[32m2024-11-06 11:39:06.323\u001B[0m | \u001B[1mINFO    \u001B[0m | \u001B[36mqscope.device.rfsource.windfreak.synthNV\u001B[0m:\u001B[36mset_power\u001B[0m:\u001B[36m147\u001B[0m - \u001B[1mSetting power to -40.4 type <class 'float'>\u001B[0m\n"
     ]
    },
    {
     "name": "stdout",
     "output_type": "stream",
     "text": [
      "<class 'float'>\n",
      "b''\n"
     ]
    },
    {
     "ename": "",
     "evalue": "",
     "output_type": "error",
     "traceback": [
      "\u001B[1;31mThe Kernel crashed while executing code in the current cell or a previous cell. \n",
      "\u001B[1;31mPlease review the code in the cell(s) to identify a possible cause of the failure. \n",
      "\u001B[1;31mClick <a href='https://aka.ms/vscodeJupyterKernelCrash'>here</a> for more info. \n",
      "\u001B[1;31mView Jupyter <a href='command:jupyter.viewOutput'>log</a> for further details."
     ]
    }
   ],
   "source": [
    "# set the RF parameters\n",
    "# Make a list of the RF sources\n",
    "rf_list = np.linspace(2950, 3050, 100)\n",
    "\n",
    "power = -40.4\n",
    "\n",
    "# system.rfsources[0].set_freq_list(rf_list)\n",
    "system.rfsources[0].set_freq(3000)\n",
    "system.rfsources[0].set_power(power)\n",
    "system.rfsources[0].set_output(True)\n",
    "\n",
    "# get the power\n",
    "print(system.rfsources[0].get_power())"
   ]
  },
  {
   "cell_type": "code",
   "execution_count": 3,
   "metadata": {},
   "outputs": [
    {
     "data": {
      "text/plain": [
       "''"
      ]
     },
     "execution_count": 3,
     "metadata": {},
     "output_type": "execute_result"
    }
   ],
   "source": [
    "system.rfsources[0].get_power()"
   ]
  },
  {
   "cell_type": "code",
   "execution_count": null,
   "metadata": {},
   "outputs": [],
   "source": []
  }
 ],
 "metadata": {
  "kernelspec": {
   "display_name": "Python 3",
   "language": "python",
   "name": "python3"
  },
  "language_info": {
   "codemirror_mode": {
    "name": "ipython",
    "version": 3
   },
   "file_extension": ".py",
   "mimetype": "text/x-python",
   "name": "python",
   "nbconvert_exporter": "python",
   "pygments_lexer": "ipython3",
   "version": "3.11.10"
  }
 },
 "nbformat": 4,
 "nbformat_minor": 2
}
