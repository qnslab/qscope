{
 "cells": [
  {
   "cell_type": "markdown",
   "metadata": {},
   "source": [
    "# Camera connectivity and contol\n",
    "\n",
    "There are multiple way that you can connect to a camera using the QSCOPE framework. In this notebook we show the various ways that you can connect a piece of equipment and control it.  "
   ]
  },
  {
   "cell_type": "markdown",
   "metadata": {},
   "source": [
    "### Reset the camera \n",
    "if you are having issues connecting to it in the GUI try this. "
   ]
  },
  {
   "cell_type": "code",
   "execution_count": null,
   "metadata": {},
   "outputs": [],
   "source": [
    "import pylablib as pll\n",
    "import pylablib.devices.Andor\n",
    "\n",
    "# Load the dlls for the Andor camera\n",
    "lib_folder = \"C:\\\\Qscope\\\\proprietary_artefacts\"\n",
    "pll.par[\"devices/dlls/andor_sdk3\"] = lib_folder\n",
    "\n",
    "# Create the camera object\n",
    "cam = pylablib.devices.Andor.AndorSDK3Camera()\n",
    "# Open the camera\n",
    "cam.open()\n",
    "# Set the trigger mode to internal\n",
    "cam.set_trigger_mode(\"int\")\n",
    "# Set the exposure time to 1 second\n",
    "cam.set_exposure(1)\n",
    "# Capture an image\n",
    "image = cam.snap()\n",
    "# Close the camera\n",
    "cam.close()"
   ]
  },
  {
   "cell_type": "markdown",
   "metadata": {},
   "source": [
    "### Opening the camera directly\n",
    "You can open the camera using the inbuilt dlls (or the additional dlls for some cameras). "
   ]
  },
  {
   "cell_type": "code",
   "execution_count": 1,
   "metadata": {},
   "outputs": [
    {
     "name": "stdout",
     "output_type": "stream",
     "text": [
      "C:\\Qscope\\proprietary_artefacts\n"
     ]
    }
   ],
   "source": [
    "# Import startard libraries\n",
    "import os\n",
    "\n",
    "import matplotlib.pyplot as plt\n",
    "import numpy as np\n",
    "\n",
    "# Import addtional control libraries\n",
    "import pylablib as pll\n",
    "import pylablib.devices.Andor\n",
    "\n",
    "# Import Logging libraries\n",
    "from loguru import logger\n",
    "\n",
    "# from qscope.device import Camera\n",
    "# from qscope.util.logging import format_error_response\n",
    "# this_folder = os.path.abspath(os.path.realpath(os.path.dirname(__file__)))\n",
    "# lib_folder = os.path.abspath(\n",
    "#     os.path.join(this_folder, *[\"..\" for i in range(5)], \"proprietary_artefacts\")\n",
    "# )\n",
    "\n",
    "lib_folder = \"C:\\\\Qscope\\\\proprietary_artefacts\"  # Load the dlls for the Andor camera\n",
    "pll.par[\"devices/dlls/andor_sdk3\"] = lib_folder\n",
    "\n",
    "# Create the camera object\n",
    "cam = pylablib.devices.Andor.AndorSDK3Camera()\n",
    "# Open the camera\n",
    "cam.open()\n",
    "# Set the trigger mode to internal\n",
    "cam.set_trigger_mode(\"int\")\n",
    "# Set the exposure time to 1 second\n",
    "cam.set_exposure(1)\n",
    "# Capture an image\n",
    "image = cam.snap()\n",
    "# Close the camera\n",
    "cam.close()\n",
    "\n",
    "# Display the image\n",
    "plt.imshow(image, cmap=\"gray\")\n",
    "plt.colorbar()\n",
    "plt.show()"
   ]
  },
  {
   "cell_type": "markdown",
   "metadata": {},
   "source": [
    "# Opening the camera via a the system\n",
    "Rather than loading the camera itself you can load a system object that already holds the correct information about the device and use that as a camera object. "
   ]
  },
  {
   "cell_type": "code",
   "execution_count": 3,
   "metadata": {},
   "outputs": [
    {
     "ename": "ImportError",
     "evalue": "cannot import name 'HQDM' from 'qscope.system.config' (C:\\Qscope\\src\\qscope\\system\\config.py)",
     "output_type": "error",
     "traceback": [
      "\u001B[1;31m---------------------------------------------------------------------------\u001B[0m",
      "\u001B[1;31mImportError\u001B[0m                               Traceback (most recent call last)",
      "Cell \u001B[1;32mIn[3], line 12\u001B[0m\n\u001B[0;32m      9\u001B[0m \u001B[38;5;28;01mfrom\u001B[39;00m \u001B[38;5;21;01mmpl_toolkits\u001B[39;00m\u001B[38;5;21;01m.\u001B[39;00m\u001B[38;5;21;01maxes_grid1\u001B[39;00m \u001B[38;5;28;01mimport\u001B[39;00m make_axes_locatable\n\u001B[0;32m     11\u001B[0m \u001B[38;5;28;01mfrom\u001B[39;00m \u001B[38;5;21;01mqscope\u001B[39;00m\u001B[38;5;21;01m.\u001B[39;00m\u001B[38;5;21;01mdevice\u001B[39;00m \u001B[38;5;28;01mimport\u001B[39;00m Camera, Zyla42\n\u001B[1;32m---> 12\u001B[0m \u001B[38;5;28;01mfrom\u001B[39;00m \u001B[38;5;21;01mqscope\u001B[39;00m\u001B[38;5;21;01m.\u001B[39;00m\u001B[38;5;21;01msystem\u001B[39;00m\u001B[38;5;21;01m.\u001B[39;00m\u001B[38;5;21;01mconfig\u001B[39;00m \u001B[38;5;28;01mimport\u001B[39;00m HQDM, MockSetup\n\u001B[0;32m     13\u001B[0m \u001B[38;5;28;01mfrom\u001B[39;00m \u001B[38;5;21;01mqscope\u001B[39;00m\u001B[38;5;21;01m.\u001B[39;00m\u001B[38;5;21;01mutils\u001B[39;00m\u001B[38;5;21;01m.\u001B[39;00m\u001B[38;5;21;01mlogging\u001B[39;00m \u001B[38;5;28;01mimport\u001B[39;00m format_error_response\n\u001B[0;32m     15\u001B[0m cam2 \u001B[38;5;241m=\u001B[39m Zyla42(HQDM())\n",
      "\u001B[1;31mImportError\u001B[0m: cannot import name 'HQDM' from 'qscope.system.config' (C:\\Qscope\\src\\qscope\\system\\config.py)"
     ]
    }
   ],
   "source": [
    "# Import startard libraries\n",
    "import matplotlib.pyplot as plt\n",
    "\n",
    "# Import qscope libraries\n",
    "from qscope.device import Camera, Zyla42\n",
    "from qscope.system.config import HQDM\n",
    "from qscope.util.logging import format_error_response\n",
    "\n",
    "# Create the camera object\n",
    "cam2 = Zyla42(HQDM())\n",
    "# Open the camera\n",
    "cam2.open()\n",
    "# Set the exposure time to 0.1 second\n",
    "cam2.set_exposure_time(0.1)\n",
    "# Set the binning to 1x1\n",
    "cam2.set_hardware_binning((1, 1))\n",
    "# Capture an image\n",
    "image = cam2.take_snapshot()\n",
    "\n",
    "# Display the image\n",
    "plt.imshow(image, cmap=\"gray\")\n",
    "plt.colorbar()\n",
    "plt.show()"
   ]
  },
  {
   "cell_type": "code",
   "execution_count": null,
   "metadata": {},
   "outputs": [],
   "source": [
    "# Start the camera in live mode\n",
    "cam2.start_popup_video()"
   ]
  },
  {
   "cell_type": "code",
   "execution_count": null,
   "metadata": {},
   "outputs": [],
   "source": [
    "# close the camera\n",
    "cam2.close()"
   ]
  },
  {
   "cell_type": "markdown",
   "metadata": {},
   "source": [
    "# Instantiating a system\n",
    "You can also create a system object and then control the camera throught the system itself, which is ultimately the way the gui works al beit through a messaging server. "
   ]
  },
  {
   "cell_type": "code",
   "execution_count": null,
   "metadata": {},
   "outputs": [],
   "source": [
    "import matplotlib.pyplot as plt\n",
    "\n",
    "import qscope.device.seqgen.pulseblaster.spinapi as pb\n",
    "import qscope.system\n",
    "from qscope.device.seqgen.pulseblaster import PulseBlaster\n",
    "from qscope.system import SGCameraSystem\n",
    "from qscope.system.config import HQDM, MockSetup\n",
    "\n",
    "# open the system\n",
    "system = SGCameraSystem(HQDM)\n",
    "system.startup()"
   ]
  },
  {
   "cell_type": "code",
   "execution_count": null,
   "metadata": {},
   "outputs": [],
   "source": [
    "# set the camera parameters\n",
    "system.camera.set_exposure_time(0.1)\n",
    "system.camera.set_hardware_binning((1, 1))\n",
    "system.camera.set_roi((0, 0, 1024, 1024))\n",
    "# capture an image\n",
    "image = system.camera.take_snapshot()\n",
    "# display the image\n",
    "plt.figure()\n",
    "plt.imshow(image, cmap=\"gray\")"
   ]
  },
  {
   "cell_type": "code",
   "execution_count": null,
   "metadata": {},
   "outputs": [],
   "source": [
    "# Turn the laser on\n",
    "# TODO: This is not working\n",
    "system.pb.laser_output(1)\n",
    "\n",
    "image = system.camera.take_snapshot()\n",
    "# display the image\n",
    "plt.figure()\n",
    "plt.imshow(image, cmap=\"gray\")\n",
    "\n",
    "# Turn the laser off\n",
    "system.pb.laser_output(0)"
   ]
  },
  {
   "cell_type": "code",
   "execution_count": null,
   "metadata": {},
   "outputs": [],
   "source": [
    "# close the system\n",
    "system.shutdown()"
   ]
  }
 ],
 "metadata": {
  "kernelspec": {
   "display_name": "Python 3",
   "language": "python",
   "name": "python3"
  },
  "language_info": {
   "codemirror_mode": {
    "name": "ipython",
    "version": 3
   },
   "file_extension": ".py",
   "mimetype": "text/x-python",
   "name": "python",
   "nbconvert_exporter": "python",
   "pygments_lexer": "ipython3",
   "version": "3.11.10"
  }
 },
 "nbformat": 4,
 "nbformat_minor": 4
}
